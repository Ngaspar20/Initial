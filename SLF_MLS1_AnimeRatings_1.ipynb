{
  "cells": [
    {
      "cell_type": "markdown",
      "metadata": {
        "id": "view-in-github",
        "colab_type": "text"
      },
      "source": [
        "<a href=\"https://colab.research.google.com/github/Ngaspar20/Initial/blob/main/SLF_MLS1_AnimeRatings_1.ipynb\" target=\"_parent\"><img src=\"https://colab.research.google.com/assets/colab-badge.svg\" alt=\"Open In Colab\"/></a>"
      ]
    },
    {
      "cell_type": "markdown",
      "metadata": {
        "id": "JNGPG7Br-qTi"
      },
      "source": [
        "<center><p float=\"center\">\n",
        "  <img src=\"https://upload.wikimedia.org/wikipedia/commons/e/e9/4_RGB_McCombs_School_Brand_Branded.png\" width=\"300\" height=\"100\"/>\n",
        "  <img src=\"https://mma.prnewswire.com/media/1458111/Great_Learning_Logo.jpg?p=facebook\" width=\"200\" height=\"100\"/>\n",
        "</p></center>\n",
        "\n",
        "<center><font size=10>Supervised Learning Foundations</center></font>\n",
        "<center><font size=6>Linear Regression - Week 1</center></font>"
      ]
    },
    {
      "cell_type": "markdown",
      "metadata": {
        "id": "z-Z3P5gYC-Nr"
      },
      "source": [
        "<center><img src=\"https://cdn.pixabay.com/photo/2017/04/25/05/14/samurai-2258604_960_720.jpg\" width=\"720\"></center>\n",
        "\n",
        "<center><font size=6>Anime Ratings Case Study</font></center>"
      ]
    },
    {
      "cell_type": "markdown",
      "metadata": {
        "id": "rj3ZBcwc-qTr"
      },
      "source": [
        "## Problem Statement"
      ]
    },
    {
      "cell_type": "markdown",
      "metadata": {
        "id": "mVvNF5yJC-N8"
      },
      "source": [
        "### Business Context\n",
        "\n",
        "Streaming media services facilitate on-demand or real-time presentation and distribution of audio, video, and multimedia content across a communications route without downloading the files to their systems. This saves users time and storage, and at the same time provides the media owners with built-in copy protection. In today's digital space, streaming has become an influential medium for accessing information. Improved connectivity and advancement in technology have made streaming services accessible to almost everyone having an internet connection, and the surging demand for on-demand entertainment services such as entertainment programs and live matches is boosting the adoption of streaming media services globally.\n",
        "\n",
        "Streamist is a streaming company that streams web series and movies to a worldwide audience. Every content on their portal is rated by the viewers, and the portal also provides other information for the content like the number of people who have watched it, the number of people who want to watch it, the number of episodes, duration of an episode, etc.\n",
        "\n",
        "\n",
        "### Objective\n",
        "\n",
        "Streamist is currently focusing on the anime available in their portal and wants to identify the most important factors involved in rating an anime.  As a data scientist at Streamist, you are tasked with analyzing the  portal's anime data and identifying the important factors by building a predictive model to predict the rating of an anime.\n",
        "\n",
        "\n",
        "\n",
        "### Data Dictionary\n",
        "\n",
        "Each record in the database provides a description of an anime. A detailed data dictionary can be found below.\n",
        "\n",
        "1. title: title of the anime\n",
        "2. mediaType: format of publication\n",
        "3. eps: number of episodes (movies are considered 1 episode)\n",
        "4. duration: duration of an episode in minutes\n",
        "5. startYr: the year that airing started\n",
        "6. finishYr: the year that airing finished\n",
        "7. description: the synopsis of the plot\n",
        "8. contentWarn: content warning\n",
        "9. watched: number of users that completed it\n",
        "10. watching: number of users that are watching it\n",
        "11. rating: average user rating\n",
        "12. votes: number of votes that contribute to the rating\n",
        "13. studio_primary: studios responsible for creation\n",
        "14. studios_colab: whether there was a collaboration between studios for anime production\n",
        "15. genre: genre to which the anime belongs"
      ]
    },
    {
      "cell_type": "markdown",
      "source": [
        "## Installing  and Importing Necessary Libraries\n"
      ],
      "metadata": {
        "id": "F3Tm5SxJTle6"
      }
    },
    {
      "cell_type": "code",
      "source": [
        "# Installing the libraries with the specified version.\n",
        "!pip install pandas==2.0.3 numpy==1.25.2 seaborn==0.13.1 matplotlib==3.7.1 scikit-learn==1.2.2 statsmodels==0.14.2 -q --user"
      ],
      "metadata": {
        "id": "2eYSE2gLTseW"
      },
      "execution_count": 2,
      "outputs": []
    },
    {
      "cell_type": "markdown",
      "source": [
        "**Note**: *After running the above cell, kindly restart the notebook kernel / runtime and run all cells after this note sequentially.*"
      ],
      "metadata": {
        "id": "kKW2hXYpf7Y0"
      }
    },
    {
      "cell_type": "code",
      "execution_count": 3,
      "metadata": {
        "id": "I1OMxQ78FIOG"
      },
      "outputs": [],
      "source": [
        "# Libraries to help with reading and manipulating data\n",
        "import numpy as np\n",
        "import pandas as pd\n",
        "import matplotlib\n",
        "\n",
        "# Libraries to help with data visualization\n",
        "import matplotlib.pyplot as plt\n",
        "import seaborn as sns\n",
        "\n",
        "sns.set()\n",
        "\n",
        "# split the data into train and test\n",
        "from sklearn.model_selection import train_test_split\n",
        "\n",
        "# to build linear regression_model\n",
        "import statsmodels.api as sm\n",
        "\n",
        "# to check model performance\n",
        "from sklearn.metrics import mean_absolute_error, mean_squared_error, r2_score"
      ]
    },
    {
      "cell_type": "markdown",
      "metadata": {
        "id": "xxhpZv9y-qTw"
      },
      "source": [
        "## Loading the dataset"
      ]
    },
    {
      "cell_type": "code",
      "execution_count": 8,
      "metadata": {
        "id": "_IhpfhVpKO5W"
      },
      "outputs": [],
      "source": [
        "# uncomment and run the following lines for mounting Google Drive to the notebook (to be used only if executing in Google Colab)\n",
        "# from google.colab import drive\n",
        "# drive.mount('/content/drive')"
      ]
    },
    {
      "cell_type": "code",
      "execution_count": 9,
      "metadata": {
        "id": "s1w7UuCkFTtD"
      },
      "outputs": [],
      "source": [
        "data = pd.read_csv(\"anime_ratings_data.csv\")"
      ]
    },
    {
      "cell_type": "markdown",
      "metadata": {
        "id": "aodMV5D3-qTy"
      },
      "source": [
        "## Data Overview"
      ]
    },
    {
      "cell_type": "markdown",
      "metadata": {
        "id": "W-5jUOgu-qTz"
      },
      "source": [
        "The initial steps to get an overview of any dataset is to:\n",
        "- observe the first few rows of the dataset, to check whether the dataset has been loaded properly or not\n",
        "- get information about the number of rows and columns in the dataset\n",
        "- find out the data types of the columns to ensure that data is stored in the preferred format and the value of each property is as expected.\n",
        "- check the statistical summary of the dataset to get an overview of the numerical columns of the data"
      ]
    },
    {
      "cell_type": "markdown",
      "metadata": {
        "id": "qlzqMR1K-qTz"
      },
      "source": [
        "### Displaying the first few rows of the dataset"
      ]
    },
    {
      "cell_type": "code",
      "execution_count": 10,
      "metadata": {
        "colab": {
          "base_uri": "https://localhost:8080/",
          "height": 397
        },
        "id": "5oT7wt_c-qT0",
        "outputId": "5dd644b2-286f-4aec-da24-557c000d6571"
      },
      "outputs": [
        {
          "output_type": "execute_result",
          "data": {
            "text/plain": [
              "                                      title    mediaType  eps  duration  \\\n",
              "0  Dragon Ball Z Movie 15: Resurrection 'F'        Movie    1      67.0   \n",
              "1                         Kuripuri*Kuripura        Movie    1       5.0   \n",
              "2                                    GJ-bu@   TV Special    1      46.0   \n",
              "3        Nausicaa of the Valley of the Wind        Movie    1      67.0   \n",
              "4                       Miru Tights Special  DVD Special    1       4.0   \n",
              "\n",
              "   startYr  finishYr                                        description  \\\n",
              "0     2015      2015  Even the complete obliteration of his physical...   \n",
              "1     2008      2008                                                NaN   \n",
              "2     2014      2014  The story is set during the spring vacation im...   \n",
              "3     1984      1984  One thousand years after the Giant Warriors ca...   \n",
              "4     2019      2019  Yua is asked to model an illustrator's designs...   \n",
              "\n",
              "  contentWarn  watched  watching  rating   votes  studio_primary  \\\n",
              "0          No     4649        86   3.979  3100.0  Toei Animation   \n",
              "1          No       10         0   2.120    10.0          Others   \n",
              "2          No     1630        16   3.758  1103.0          Others   \n",
              "3          No     4649       184   4.444  3100.0          Others   \n",
              "4          No      346         8   2.494   234.0          Others   \n",
              "\n",
              "  studios_colab  genre  \n",
              "0            No  Other  \n",
              "1            No  Other  \n",
              "2            No  Other  \n",
              "3            No  Drama  \n",
              "4            No  Other  "
            ],
            "text/html": [
              "\n",
              "  <div id=\"df-e930e28e-b220-4000-9d3a-d79c1dd59a25\" class=\"colab-df-container\">\n",
              "    <div>\n",
              "<style scoped>\n",
              "    .dataframe tbody tr th:only-of-type {\n",
              "        vertical-align: middle;\n",
              "    }\n",
              "\n",
              "    .dataframe tbody tr th {\n",
              "        vertical-align: top;\n",
              "    }\n",
              "\n",
              "    .dataframe thead th {\n",
              "        text-align: right;\n",
              "    }\n",
              "</style>\n",
              "<table border=\"1\" class=\"dataframe\">\n",
              "  <thead>\n",
              "    <tr style=\"text-align: right;\">\n",
              "      <th></th>\n",
              "      <th>title</th>\n",
              "      <th>mediaType</th>\n",
              "      <th>eps</th>\n",
              "      <th>duration</th>\n",
              "      <th>startYr</th>\n",
              "      <th>finishYr</th>\n",
              "      <th>description</th>\n",
              "      <th>contentWarn</th>\n",
              "      <th>watched</th>\n",
              "      <th>watching</th>\n",
              "      <th>rating</th>\n",
              "      <th>votes</th>\n",
              "      <th>studio_primary</th>\n",
              "      <th>studios_colab</th>\n",
              "      <th>genre</th>\n",
              "    </tr>\n",
              "  </thead>\n",
              "  <tbody>\n",
              "    <tr>\n",
              "      <th>0</th>\n",
              "      <td>Dragon Ball Z Movie 15: Resurrection 'F'</td>\n",
              "      <td>Movie</td>\n",
              "      <td>1</td>\n",
              "      <td>67.0</td>\n",
              "      <td>2015</td>\n",
              "      <td>2015</td>\n",
              "      <td>Even the complete obliteration of his physical...</td>\n",
              "      <td>No</td>\n",
              "      <td>4649</td>\n",
              "      <td>86</td>\n",
              "      <td>3.979</td>\n",
              "      <td>3100.0</td>\n",
              "      <td>Toei Animation</td>\n",
              "      <td>No</td>\n",
              "      <td>Other</td>\n",
              "    </tr>\n",
              "    <tr>\n",
              "      <th>1</th>\n",
              "      <td>Kuripuri*Kuripura</td>\n",
              "      <td>Movie</td>\n",
              "      <td>1</td>\n",
              "      <td>5.0</td>\n",
              "      <td>2008</td>\n",
              "      <td>2008</td>\n",
              "      <td>NaN</td>\n",
              "      <td>No</td>\n",
              "      <td>10</td>\n",
              "      <td>0</td>\n",
              "      <td>2.120</td>\n",
              "      <td>10.0</td>\n",
              "      <td>Others</td>\n",
              "      <td>No</td>\n",
              "      <td>Other</td>\n",
              "    </tr>\n",
              "    <tr>\n",
              "      <th>2</th>\n",
              "      <td>GJ-bu@</td>\n",
              "      <td>TV Special</td>\n",
              "      <td>1</td>\n",
              "      <td>46.0</td>\n",
              "      <td>2014</td>\n",
              "      <td>2014</td>\n",
              "      <td>The story is set during the spring vacation im...</td>\n",
              "      <td>No</td>\n",
              "      <td>1630</td>\n",
              "      <td>16</td>\n",
              "      <td>3.758</td>\n",
              "      <td>1103.0</td>\n",
              "      <td>Others</td>\n",
              "      <td>No</td>\n",
              "      <td>Other</td>\n",
              "    </tr>\n",
              "    <tr>\n",
              "      <th>3</th>\n",
              "      <td>Nausicaa of the Valley of the Wind</td>\n",
              "      <td>Movie</td>\n",
              "      <td>1</td>\n",
              "      <td>67.0</td>\n",
              "      <td>1984</td>\n",
              "      <td>1984</td>\n",
              "      <td>One thousand years after the Giant Warriors ca...</td>\n",
              "      <td>No</td>\n",
              "      <td>4649</td>\n",
              "      <td>184</td>\n",
              "      <td>4.444</td>\n",
              "      <td>3100.0</td>\n",
              "      <td>Others</td>\n",
              "      <td>No</td>\n",
              "      <td>Drama</td>\n",
              "    </tr>\n",
              "    <tr>\n",
              "      <th>4</th>\n",
              "      <td>Miru Tights Special</td>\n",
              "      <td>DVD Special</td>\n",
              "      <td>1</td>\n",
              "      <td>4.0</td>\n",
              "      <td>2019</td>\n",
              "      <td>2019</td>\n",
              "      <td>Yua is asked to model an illustrator's designs...</td>\n",
              "      <td>No</td>\n",
              "      <td>346</td>\n",
              "      <td>8</td>\n",
              "      <td>2.494</td>\n",
              "      <td>234.0</td>\n",
              "      <td>Others</td>\n",
              "      <td>No</td>\n",
              "      <td>Other</td>\n",
              "    </tr>\n",
              "  </tbody>\n",
              "</table>\n",
              "</div>\n",
              "    <div class=\"colab-df-buttons\">\n",
              "\n",
              "  <div class=\"colab-df-container\">\n",
              "    <button class=\"colab-df-convert\" onclick=\"convertToInteractive('df-e930e28e-b220-4000-9d3a-d79c1dd59a25')\"\n",
              "            title=\"Convert this dataframe to an interactive table.\"\n",
              "            style=\"display:none;\">\n",
              "\n",
              "  <svg xmlns=\"http://www.w3.org/2000/svg\" height=\"24px\" viewBox=\"0 -960 960 960\">\n",
              "    <path d=\"M120-120v-720h720v720H120Zm60-500h600v-160H180v160Zm220 220h160v-160H400v160Zm0 220h160v-160H400v160ZM180-400h160v-160H180v160Zm440 0h160v-160H620v160ZM180-180h160v-160H180v160Zm440 0h160v-160H620v160Z\"/>\n",
              "  </svg>\n",
              "    </button>\n",
              "\n",
              "  <style>\n",
              "    .colab-df-container {\n",
              "      display:flex;\n",
              "      gap: 12px;\n",
              "    }\n",
              "\n",
              "    .colab-df-convert {\n",
              "      background-color: #E8F0FE;\n",
              "      border: none;\n",
              "      border-radius: 50%;\n",
              "      cursor: pointer;\n",
              "      display: none;\n",
              "      fill: #1967D2;\n",
              "      height: 32px;\n",
              "      padding: 0 0 0 0;\n",
              "      width: 32px;\n",
              "    }\n",
              "\n",
              "    .colab-df-convert:hover {\n",
              "      background-color: #E2EBFA;\n",
              "      box-shadow: 0px 1px 2px rgba(60, 64, 67, 0.3), 0px 1px 3px 1px rgba(60, 64, 67, 0.15);\n",
              "      fill: #174EA6;\n",
              "    }\n",
              "\n",
              "    .colab-df-buttons div {\n",
              "      margin-bottom: 4px;\n",
              "    }\n",
              "\n",
              "    [theme=dark] .colab-df-convert {\n",
              "      background-color: #3B4455;\n",
              "      fill: #D2E3FC;\n",
              "    }\n",
              "\n",
              "    [theme=dark] .colab-df-convert:hover {\n",
              "      background-color: #434B5C;\n",
              "      box-shadow: 0px 1px 3px 1px rgba(0, 0, 0, 0.15);\n",
              "      filter: drop-shadow(0px 1px 2px rgba(0, 0, 0, 0.3));\n",
              "      fill: #FFFFFF;\n",
              "    }\n",
              "  </style>\n",
              "\n",
              "    <script>\n",
              "      const buttonEl =\n",
              "        document.querySelector('#df-e930e28e-b220-4000-9d3a-d79c1dd59a25 button.colab-df-convert');\n",
              "      buttonEl.style.display =\n",
              "        google.colab.kernel.accessAllowed ? 'block' : 'none';\n",
              "\n",
              "      async function convertToInteractive(key) {\n",
              "        const element = document.querySelector('#df-e930e28e-b220-4000-9d3a-d79c1dd59a25');\n",
              "        const dataTable =\n",
              "          await google.colab.kernel.invokeFunction('convertToInteractive',\n",
              "                                                    [key], {});\n",
              "        if (!dataTable) return;\n",
              "\n",
              "        const docLinkHtml = 'Like what you see? Visit the ' +\n",
              "          '<a target=\"_blank\" href=https://colab.research.google.com/notebooks/data_table.ipynb>data table notebook</a>'\n",
              "          + ' to learn more about interactive tables.';\n",
              "        element.innerHTML = '';\n",
              "        dataTable['output_type'] = 'display_data';\n",
              "        await google.colab.output.renderOutput(dataTable, element);\n",
              "        const docLink = document.createElement('div');\n",
              "        docLink.innerHTML = docLinkHtml;\n",
              "        element.appendChild(docLink);\n",
              "      }\n",
              "    </script>\n",
              "  </div>\n",
              "\n",
              "\n",
              "    <div id=\"df-d6ee5051-0366-4806-b116-c83b4df6370e\">\n",
              "      <button class=\"colab-df-quickchart\" onclick=\"quickchart('df-d6ee5051-0366-4806-b116-c83b4df6370e')\"\n",
              "                title=\"Suggest charts\"\n",
              "                style=\"display:none;\">\n",
              "\n",
              "<svg xmlns=\"http://www.w3.org/2000/svg\" height=\"24px\"viewBox=\"0 0 24 24\"\n",
              "     width=\"24px\">\n",
              "    <g>\n",
              "        <path d=\"M19 3H5c-1.1 0-2 .9-2 2v14c0 1.1.9 2 2 2h14c1.1 0 2-.9 2-2V5c0-1.1-.9-2-2-2zM9 17H7v-7h2v7zm4 0h-2V7h2v10zm4 0h-2v-4h2v4z\"/>\n",
              "    </g>\n",
              "</svg>\n",
              "      </button>\n",
              "\n",
              "<style>\n",
              "  .colab-df-quickchart {\n",
              "      --bg-color: #E8F0FE;\n",
              "      --fill-color: #1967D2;\n",
              "      --hover-bg-color: #E2EBFA;\n",
              "      --hover-fill-color: #174EA6;\n",
              "      --disabled-fill-color: #AAA;\n",
              "      --disabled-bg-color: #DDD;\n",
              "  }\n",
              "\n",
              "  [theme=dark] .colab-df-quickchart {\n",
              "      --bg-color: #3B4455;\n",
              "      --fill-color: #D2E3FC;\n",
              "      --hover-bg-color: #434B5C;\n",
              "      --hover-fill-color: #FFFFFF;\n",
              "      --disabled-bg-color: #3B4455;\n",
              "      --disabled-fill-color: #666;\n",
              "  }\n",
              "\n",
              "  .colab-df-quickchart {\n",
              "    background-color: var(--bg-color);\n",
              "    border: none;\n",
              "    border-radius: 50%;\n",
              "    cursor: pointer;\n",
              "    display: none;\n",
              "    fill: var(--fill-color);\n",
              "    height: 32px;\n",
              "    padding: 0;\n",
              "    width: 32px;\n",
              "  }\n",
              "\n",
              "  .colab-df-quickchart:hover {\n",
              "    background-color: var(--hover-bg-color);\n",
              "    box-shadow: 0 1px 2px rgba(60, 64, 67, 0.3), 0 1px 3px 1px rgba(60, 64, 67, 0.15);\n",
              "    fill: var(--button-hover-fill-color);\n",
              "  }\n",
              "\n",
              "  .colab-df-quickchart-complete:disabled,\n",
              "  .colab-df-quickchart-complete:disabled:hover {\n",
              "    background-color: var(--disabled-bg-color);\n",
              "    fill: var(--disabled-fill-color);\n",
              "    box-shadow: none;\n",
              "  }\n",
              "\n",
              "  .colab-df-spinner {\n",
              "    border: 2px solid var(--fill-color);\n",
              "    border-color: transparent;\n",
              "    border-bottom-color: var(--fill-color);\n",
              "    animation:\n",
              "      spin 1s steps(1) infinite;\n",
              "  }\n",
              "\n",
              "  @keyframes spin {\n",
              "    0% {\n",
              "      border-color: transparent;\n",
              "      border-bottom-color: var(--fill-color);\n",
              "      border-left-color: var(--fill-color);\n",
              "    }\n",
              "    20% {\n",
              "      border-color: transparent;\n",
              "      border-left-color: var(--fill-color);\n",
              "      border-top-color: var(--fill-color);\n",
              "    }\n",
              "    30% {\n",
              "      border-color: transparent;\n",
              "      border-left-color: var(--fill-color);\n",
              "      border-top-color: var(--fill-color);\n",
              "      border-right-color: var(--fill-color);\n",
              "    }\n",
              "    40% {\n",
              "      border-color: transparent;\n",
              "      border-right-color: var(--fill-color);\n",
              "      border-top-color: var(--fill-color);\n",
              "    }\n",
              "    60% {\n",
              "      border-color: transparent;\n",
              "      border-right-color: var(--fill-color);\n",
              "    }\n",
              "    80% {\n",
              "      border-color: transparent;\n",
              "      border-right-color: var(--fill-color);\n",
              "      border-bottom-color: var(--fill-color);\n",
              "    }\n",
              "    90% {\n",
              "      border-color: transparent;\n",
              "      border-bottom-color: var(--fill-color);\n",
              "    }\n",
              "  }\n",
              "</style>\n",
              "\n",
              "      <script>\n",
              "        async function quickchart(key) {\n",
              "          const quickchartButtonEl =\n",
              "            document.querySelector('#' + key + ' button');\n",
              "          quickchartButtonEl.disabled = true;  // To prevent multiple clicks.\n",
              "          quickchartButtonEl.classList.add('colab-df-spinner');\n",
              "          try {\n",
              "            const charts = await google.colab.kernel.invokeFunction(\n",
              "                'suggestCharts', [key], {});\n",
              "          } catch (error) {\n",
              "            console.error('Error during call to suggestCharts:', error);\n",
              "          }\n",
              "          quickchartButtonEl.classList.remove('colab-df-spinner');\n",
              "          quickchartButtonEl.classList.add('colab-df-quickchart-complete');\n",
              "        }\n",
              "        (() => {\n",
              "          let quickchartButtonEl =\n",
              "            document.querySelector('#df-d6ee5051-0366-4806-b116-c83b4df6370e button');\n",
              "          quickchartButtonEl.style.display =\n",
              "            google.colab.kernel.accessAllowed ? 'block' : 'none';\n",
              "        })();\n",
              "      </script>\n",
              "    </div>\n",
              "\n",
              "    </div>\n",
              "  </div>\n"
            ],
            "application/vnd.google.colaboratory.intrinsic+json": {
              "type": "dataframe",
              "variable_name": "data",
              "summary": "{\n  \"name\": \"data\",\n  \"rows\": 6523,\n  \"fields\": [\n    {\n      \"column\": \"title\",\n      \"properties\": {\n        \"dtype\": \"string\",\n        \"num_unique_values\": 6523,\n        \"samples\": [\n          \"High School DxD Hero: Holiness Behind the Gym\",\n          \"Karo & Piyobupt: The Sandwiches\",\n          \"KonoSuba \\u2013 God\\u2019s blessing on this wonderful world! 2 OVA\"\n        ],\n        \"semantic_type\": \"\",\n        \"description\": \"\"\n      }\n    },\n    {\n      \"column\": \"mediaType\",\n      \"properties\": {\n        \"dtype\": \"category\",\n        \"num_unique_values\": 8,\n        \"samples\": [\n          \"TV Special\",\n          \"OVA\",\n          \"Movie\"\n        ],\n        \"semantic_type\": \"\",\n        \"description\": \"\"\n      }\n    },\n    {\n      \"column\": \"eps\",\n      \"properties\": {\n        \"dtype\": \"number\",\n        \"std\": 11,\n        \"min\": 1,\n        \"max\": 34,\n        \"num_unique_values\": 34,\n        \"samples\": [\n          6,\n          32,\n          33\n        ],\n        \"semantic_type\": \"\",\n        \"description\": \"\"\n      }\n    },\n    {\n      \"column\": \"duration\",\n      \"properties\": {\n        \"dtype\": \"number\",\n        \"std\": 20.949350041107927,\n        \"min\": 1.0,\n        \"max\": 67.0,\n        \"num_unique_values\": 88,\n        \"samples\": [\n          57.0,\n          67.0,\n          12.0\n        ],\n        \"semantic_type\": \"\",\n        \"description\": \"\"\n      }\n    },\n    {\n      \"column\": \"startYr\",\n      \"properties\": {\n        \"dtype\": \"number\",\n        \"std\": 12,\n        \"min\": 1967,\n        \"max\": 2020,\n        \"num_unique_values\": 54,\n        \"samples\": [\n          1976,\n          1987,\n          1983\n        ],\n        \"semantic_type\": \"\",\n        \"description\": \"\"\n      }\n    },\n    {\n      \"column\": \"finishYr\",\n      \"properties\": {\n        \"dtype\": \"number\",\n        \"std\": 12,\n        \"min\": 1970,\n        \"max\": 2020,\n        \"num_unique_values\": 51,\n        \"samples\": [\n          1973,\n          1990,\n          1993\n        ],\n        \"semantic_type\": \"\",\n        \"description\": \"\"\n      }\n    },\n    {\n      \"column\": \"description\",\n      \"properties\": {\n        \"dtype\": \"string\",\n        \"num_unique_values\": 4081,\n        \"samples\": [\n          \"It\\u2019s a new year and Aono Tsukune and the rest of the gang are now second year students. While Kurumu, Yukari and Shirayuki are being idolized as the beauties of the second years, Moka is receiving ten times the attention and fan mail, as well as\\u2026 a death threat?! But when it turns out that the culprit is Moka\\u2019s younger sister, Kokoa, that is hell-bent on killing her, the situation becomes more complicated. Now, Tsukune has more than ever to deal with; from being stalked by Shirayuki and trying to get closer to Moka, to the appearance of Kokoa who hates her sister\\u2019s sealed form and doesn\\u2019t think twice about attacking Tsukune, it is certain that it won\\u2019t be a quiet year for the students at Youkai Academy!\",\n          \"As the two ReLife experiments are about to reach their time limit, Arata Kanzaki and Chizuru Hoshino must wrap things up at school. Soon their memories will be partially erased and they will be introduced to their adult lives once again.\",\n          \"Twins Kazuya and Tatsuya, and their neighbor Minami have played together since they were children and built an unbreakable bond. But with puberty, the twins realized something: Minami is a girl, and three is a crowd. As the trio tries to preserve their relationship, Kazuya's pledge to make Minami's dream come true by taking her to Koshien with his baseball pitching skills makes the slackerish Tatsuya wonder about himself, and his own goals. But Minami has another dream she wants fulfilled, and as the twins continue to push themselves, with Minami in the middle, a life-changing tragedy leads one twin down a path he once never would've considered...\"\n        ],\n        \"semantic_type\": \"\",\n        \"description\": \"\"\n      }\n    },\n    {\n      \"column\": \"contentWarn\",\n      \"properties\": {\n        \"dtype\": \"category\",\n        \"num_unique_values\": 2,\n        \"samples\": [\n          \"Yes\",\n          \"No\"\n        ],\n        \"semantic_type\": \"\",\n        \"description\": \"\"\n      }\n    },\n    {\n      \"column\": \"watched\",\n      \"properties\": {\n        \"dtype\": \"number\",\n        \"std\": 1737,\n        \"min\": 5,\n        \"max\": 4649,\n        \"num_unique_values\": 1912,\n        \"samples\": [\n          3937,\n          604\n        ],\n        \"semantic_type\": \"\",\n        \"description\": \"\"\n      }\n    },\n    {\n      \"column\": \"watching\",\n      \"properties\": {\n        \"dtype\": \"number\",\n        \"std\": 76,\n        \"min\": 0,\n        \"max\": 199,\n        \"num_unique_values\": 198,\n        \"samples\": [\n          138,\n          41\n        ],\n        \"semantic_type\": \"\",\n        \"description\": \"\"\n      }\n    },\n    {\n      \"column\": \"rating\",\n      \"properties\": {\n        \"dtype\": \"number\",\n        \"std\": 0.7604856034004107,\n        \"min\": 1.111,\n        \"max\": 4.702,\n        \"num_unique_values\": 2781,\n        \"samples\": [\n          2.493,\n          3.928\n        ],\n        \"semantic_type\": \"\",\n        \"description\": \"\"\n      }\n    },\n    {\n      \"column\": \"votes\",\n      \"properties\": {\n        \"dtype\": \"number\",\n        \"std\": 1171.6776477791136,\n        \"min\": 10.0,\n        \"max\": 3100.0,\n        \"num_unique_values\": 1554,\n        \"samples\": [\n          2395.0,\n          490.0\n        ],\n        \"semantic_type\": \"\",\n        \"description\": \"\"\n      }\n    },\n    {\n      \"column\": \"studio_primary\",\n      \"properties\": {\n        \"dtype\": \"category\",\n        \"num_unique_values\": 11,\n        \"samples\": [\n          \"Sunrise\",\n          \"Toei Animation\"\n        ],\n        \"semantic_type\": \"\",\n        \"description\": \"\"\n      }\n    },\n    {\n      \"column\": \"studios_colab\",\n      \"properties\": {\n        \"dtype\": \"category\",\n        \"num_unique_values\": 2,\n        \"samples\": [\n          \"Yes\",\n          \"No\"\n        ],\n        \"semantic_type\": \"\",\n        \"description\": \"\"\n      }\n    },\n    {\n      \"column\": \"genre\",\n      \"properties\": {\n        \"dtype\": \"category\",\n        \"num_unique_values\": 9,\n        \"samples\": [\n          \"Romance\",\n          \"Drama\"\n        ],\n        \"semantic_type\": \"\",\n        \"description\": \"\"\n      }\n    }\n  ]\n}"
            }
          },
          "metadata": {},
          "execution_count": 10
        }
      ],
      "source": [
        "data.head()"
      ]
    },
    {
      "cell_type": "markdown",
      "metadata": {
        "id": "b0WQYOcl-qT0"
      },
      "source": [
        "* The dataset contains information about different anime\n",
        "* Many anime seem to have a single episode only, which are movies\n",
        "* Description seems to be missing for some anime"
      ]
    },
    {
      "cell_type": "markdown",
      "metadata": {
        "id": "KQi5ygTC-qT1"
      },
      "source": [
        "### Checking the shape of the dataset"
      ]
    },
    {
      "cell_type": "code",
      "execution_count": 11,
      "metadata": {
        "colab": {
          "base_uri": "https://localhost:8080/"
        },
        "id": "-9I7p2d5-qT1",
        "outputId": "2e5f09bd-c1fd-4abb-98ba-2d5f64317ae9"
      },
      "outputs": [
        {
          "output_type": "execute_result",
          "data": {
            "text/plain": [
              "(6523, 15)"
            ]
          },
          "metadata": {},
          "execution_count": 11
        }
      ],
      "source": [
        "data.shape"
      ]
    },
    {
      "cell_type": "markdown",
      "metadata": {
        "id": "dJt4J3px-qT1"
      },
      "source": [
        "* The dataset contains information (15 attributes) about 6523 anime"
      ]
    },
    {
      "cell_type": "markdown",
      "metadata": {
        "id": "5TcqcxbK-qT3"
      },
      "source": [
        "### Checking the data types of the columns for the dataset"
      ]
    },
    {
      "cell_type": "code",
      "execution_count": 12,
      "metadata": {
        "colab": {
          "base_uri": "https://localhost:8080/"
        },
        "id": "AERVi7V5-qT4",
        "outputId": "02bc7830-48c6-4d4c-cb06-9133dcabbd75"
      },
      "outputs": [
        {
          "output_type": "stream",
          "name": "stdout",
          "text": [
            "<class 'pandas.core.frame.DataFrame'>\n",
            "RangeIndex: 6523 entries, 0 to 6522\n",
            "Data columns (total 15 columns):\n",
            " #   Column          Non-Null Count  Dtype  \n",
            "---  ------          --------------  -----  \n",
            " 0   title           6523 non-null   object \n",
            " 1   mediaType       6496 non-null   object \n",
            " 2   eps             6523 non-null   int64  \n",
            " 3   duration        6248 non-null   float64\n",
            " 4   startYr         6523 non-null   int64  \n",
            " 5   finishYr        6523 non-null   int64  \n",
            " 6   description     4114 non-null   object \n",
            " 7   contentWarn     6523 non-null   object \n",
            " 8   watched         6523 non-null   int64  \n",
            " 9   watching        6523 non-null   int64  \n",
            " 10  rating          6523 non-null   float64\n",
            " 11  votes           6496 non-null   float64\n",
            " 12  studio_primary  6523 non-null   object \n",
            " 13  studios_colab   6523 non-null   object \n",
            " 14  genre           6523 non-null   object \n",
            "dtypes: float64(3), int64(5), object(7)\n",
            "memory usage: 764.5+ KB\n"
          ]
        }
      ],
      "source": [
        "data.info()"
      ]
    },
    {
      "cell_type": "markdown",
      "metadata": {
        "id": "USTWGdhn-qT4"
      },
      "source": [
        "* There are 8 numeric (*float* and *int* type) and 7 string (*object* type) columns in the data\n",
        "* The target variable is the rating of an anime, which is of *float* type"
      ]
    },
    {
      "cell_type": "markdown",
      "metadata": {
        "id": "nUCorhch-qT4"
      },
      "source": [
        "### Statistical summary of the dataset"
      ]
    },
    {
      "cell_type": "code",
      "execution_count": 13,
      "metadata": {
        "colab": {
          "base_uri": "https://localhost:8080/",
          "height": 519
        },
        "id": "dYAOucxD-qT4",
        "outputId": "1e9d5d01-faf5-4cb6-d62e-0b0dfaaf8e1f"
      },
      "outputs": [
        {
          "output_type": "execute_result",
          "data": {
            "text/plain": [
              "                 count unique  \\\n",
              "title             6523   6523   \n",
              "mediaType         6496      8   \n",
              "eps             6523.0    NaN   \n",
              "duration        6248.0    NaN   \n",
              "startYr         6523.0    NaN   \n",
              "finishYr        6523.0    NaN   \n",
              "description       4114   4081   \n",
              "contentWarn       6523      2   \n",
              "watched         6523.0    NaN   \n",
              "watching        6523.0    NaN   \n",
              "rating          6523.0    NaN   \n",
              "votes           6496.0    NaN   \n",
              "studio_primary    6523     11   \n",
              "studios_colab     6523      2   \n",
              "genre             6523      9   \n",
              "\n",
              "                                                              top  freq  \\\n",
              "title                                                xxxHOLiC Kei     1   \n",
              "mediaType                                                      TV  2145   \n",
              "eps                                                           NaN   NaN   \n",
              "duration                                                      NaN   NaN   \n",
              "startYr                                                       NaN   NaN   \n",
              "finishYr                                                      NaN   NaN   \n",
              "description     In 19th century Belgium, in the Flanders count...     3   \n",
              "contentWarn                                                    No  5825   \n",
              "watched                                                       NaN   NaN   \n",
              "watching                                                      NaN   NaN   \n",
              "rating                                                        NaN   NaN   \n",
              "votes                                                         NaN   NaN   \n",
              "studio_primary                                             Others  4684   \n",
              "studios_colab                                                  No  6210   \n",
              "genre                                                       Other  5468   \n",
              "\n",
              "                       mean          std     min     25%     50%      75%  \\\n",
              "title                   NaN          NaN     NaN     NaN     NaN      NaN   \n",
              "mediaType               NaN          NaN     NaN     NaN     NaN      NaN   \n",
              "eps                8.716235    11.002479     1.0     1.0     1.0     12.0   \n",
              "duration          18.396287     20.94935     1.0     5.0     7.0     25.0   \n",
              "startYr         2005.241147    12.911035  1967.0  2000.0  2010.0   2015.0   \n",
              "finishYr        2005.575349    12.568169  1970.0  2000.0  2010.0   2015.0   \n",
              "description             NaN          NaN     NaN     NaN     NaN      NaN   \n",
              "contentWarn             NaN          NaN     NaN     NaN     NaN      NaN   \n",
              "watched         1347.948643  1737.138112     5.0    56.0   349.0   2252.5   \n",
              "watching          57.445654    76.527405     0.0     2.0    13.0     98.0   \n",
              "rating             2.962553     0.760486   1.111   2.371   2.944    3.568   \n",
              "votes            906.253233  1171.677648    10.0    34.0   227.5  1567.75   \n",
              "studio_primary          NaN          NaN     NaN     NaN     NaN      NaN   \n",
              "studios_colab           NaN          NaN     NaN     NaN     NaN      NaN   \n",
              "genre                   NaN          NaN     NaN     NaN     NaN      NaN   \n",
              "\n",
              "                   max  \n",
              "title              NaN  \n",
              "mediaType          NaN  \n",
              "eps               34.0  \n",
              "duration          67.0  \n",
              "startYr         2020.0  \n",
              "finishYr        2020.0  \n",
              "description        NaN  \n",
              "contentWarn        NaN  \n",
              "watched         4649.0  \n",
              "watching         199.0  \n",
              "rating           4.702  \n",
              "votes           3100.0  \n",
              "studio_primary     NaN  \n",
              "studios_colab      NaN  \n",
              "genre              NaN  "
            ],
            "text/html": [
              "\n",
              "  <div id=\"df-1320bf2e-5987-4e1d-88e9-6bbfdbbebe21\" class=\"colab-df-container\">\n",
              "    <div>\n",
              "<style scoped>\n",
              "    .dataframe tbody tr th:only-of-type {\n",
              "        vertical-align: middle;\n",
              "    }\n",
              "\n",
              "    .dataframe tbody tr th {\n",
              "        vertical-align: top;\n",
              "    }\n",
              "\n",
              "    .dataframe thead th {\n",
              "        text-align: right;\n",
              "    }\n",
              "</style>\n",
              "<table border=\"1\" class=\"dataframe\">\n",
              "  <thead>\n",
              "    <tr style=\"text-align: right;\">\n",
              "      <th></th>\n",
              "      <th>count</th>\n",
              "      <th>unique</th>\n",
              "      <th>top</th>\n",
              "      <th>freq</th>\n",
              "      <th>mean</th>\n",
              "      <th>std</th>\n",
              "      <th>min</th>\n",
              "      <th>25%</th>\n",
              "      <th>50%</th>\n",
              "      <th>75%</th>\n",
              "      <th>max</th>\n",
              "    </tr>\n",
              "  </thead>\n",
              "  <tbody>\n",
              "    <tr>\n",
              "      <th>title</th>\n",
              "      <td>6523</td>\n",
              "      <td>6523</td>\n",
              "      <td>xxxHOLiC Kei</td>\n",
              "      <td>1</td>\n",
              "      <td>NaN</td>\n",
              "      <td>NaN</td>\n",
              "      <td>NaN</td>\n",
              "      <td>NaN</td>\n",
              "      <td>NaN</td>\n",
              "      <td>NaN</td>\n",
              "      <td>NaN</td>\n",
              "    </tr>\n",
              "    <tr>\n",
              "      <th>mediaType</th>\n",
              "      <td>6496</td>\n",
              "      <td>8</td>\n",
              "      <td>TV</td>\n",
              "      <td>2145</td>\n",
              "      <td>NaN</td>\n",
              "      <td>NaN</td>\n",
              "      <td>NaN</td>\n",
              "      <td>NaN</td>\n",
              "      <td>NaN</td>\n",
              "      <td>NaN</td>\n",
              "      <td>NaN</td>\n",
              "    </tr>\n",
              "    <tr>\n",
              "      <th>eps</th>\n",
              "      <td>6523.0</td>\n",
              "      <td>NaN</td>\n",
              "      <td>NaN</td>\n",
              "      <td>NaN</td>\n",
              "      <td>8.716235</td>\n",
              "      <td>11.002479</td>\n",
              "      <td>1.0</td>\n",
              "      <td>1.0</td>\n",
              "      <td>1.0</td>\n",
              "      <td>12.0</td>\n",
              "      <td>34.0</td>\n",
              "    </tr>\n",
              "    <tr>\n",
              "      <th>duration</th>\n",
              "      <td>6248.0</td>\n",
              "      <td>NaN</td>\n",
              "      <td>NaN</td>\n",
              "      <td>NaN</td>\n",
              "      <td>18.396287</td>\n",
              "      <td>20.94935</td>\n",
              "      <td>1.0</td>\n",
              "      <td>5.0</td>\n",
              "      <td>7.0</td>\n",
              "      <td>25.0</td>\n",
              "      <td>67.0</td>\n",
              "    </tr>\n",
              "    <tr>\n",
              "      <th>startYr</th>\n",
              "      <td>6523.0</td>\n",
              "      <td>NaN</td>\n",
              "      <td>NaN</td>\n",
              "      <td>NaN</td>\n",
              "      <td>2005.241147</td>\n",
              "      <td>12.911035</td>\n",
              "      <td>1967.0</td>\n",
              "      <td>2000.0</td>\n",
              "      <td>2010.0</td>\n",
              "      <td>2015.0</td>\n",
              "      <td>2020.0</td>\n",
              "    </tr>\n",
              "    <tr>\n",
              "      <th>finishYr</th>\n",
              "      <td>6523.0</td>\n",
              "      <td>NaN</td>\n",
              "      <td>NaN</td>\n",
              "      <td>NaN</td>\n",
              "      <td>2005.575349</td>\n",
              "      <td>12.568169</td>\n",
              "      <td>1970.0</td>\n",
              "      <td>2000.0</td>\n",
              "      <td>2010.0</td>\n",
              "      <td>2015.0</td>\n",
              "      <td>2020.0</td>\n",
              "    </tr>\n",
              "    <tr>\n",
              "      <th>description</th>\n",
              "      <td>4114</td>\n",
              "      <td>4081</td>\n",
              "      <td>In 19th century Belgium, in the Flanders count...</td>\n",
              "      <td>3</td>\n",
              "      <td>NaN</td>\n",
              "      <td>NaN</td>\n",
              "      <td>NaN</td>\n",
              "      <td>NaN</td>\n",
              "      <td>NaN</td>\n",
              "      <td>NaN</td>\n",
              "      <td>NaN</td>\n",
              "    </tr>\n",
              "    <tr>\n",
              "      <th>contentWarn</th>\n",
              "      <td>6523</td>\n",
              "      <td>2</td>\n",
              "      <td>No</td>\n",
              "      <td>5825</td>\n",
              "      <td>NaN</td>\n",
              "      <td>NaN</td>\n",
              "      <td>NaN</td>\n",
              "      <td>NaN</td>\n",
              "      <td>NaN</td>\n",
              "      <td>NaN</td>\n",
              "      <td>NaN</td>\n",
              "    </tr>\n",
              "    <tr>\n",
              "      <th>watched</th>\n",
              "      <td>6523.0</td>\n",
              "      <td>NaN</td>\n",
              "      <td>NaN</td>\n",
              "      <td>NaN</td>\n",
              "      <td>1347.948643</td>\n",
              "      <td>1737.138112</td>\n",
              "      <td>5.0</td>\n",
              "      <td>56.0</td>\n",
              "      <td>349.0</td>\n",
              "      <td>2252.5</td>\n",
              "      <td>4649.0</td>\n",
              "    </tr>\n",
              "    <tr>\n",
              "      <th>watching</th>\n",
              "      <td>6523.0</td>\n",
              "      <td>NaN</td>\n",
              "      <td>NaN</td>\n",
              "      <td>NaN</td>\n",
              "      <td>57.445654</td>\n",
              "      <td>76.527405</td>\n",
              "      <td>0.0</td>\n",
              "      <td>2.0</td>\n",
              "      <td>13.0</td>\n",
              "      <td>98.0</td>\n",
              "      <td>199.0</td>\n",
              "    </tr>\n",
              "    <tr>\n",
              "      <th>rating</th>\n",
              "      <td>6523.0</td>\n",
              "      <td>NaN</td>\n",
              "      <td>NaN</td>\n",
              "      <td>NaN</td>\n",
              "      <td>2.962553</td>\n",
              "      <td>0.760486</td>\n",
              "      <td>1.111</td>\n",
              "      <td>2.371</td>\n",
              "      <td>2.944</td>\n",
              "      <td>3.568</td>\n",
              "      <td>4.702</td>\n",
              "    </tr>\n",
              "    <tr>\n",
              "      <th>votes</th>\n",
              "      <td>6496.0</td>\n",
              "      <td>NaN</td>\n",
              "      <td>NaN</td>\n",
              "      <td>NaN</td>\n",
              "      <td>906.253233</td>\n",
              "      <td>1171.677648</td>\n",
              "      <td>10.0</td>\n",
              "      <td>34.0</td>\n",
              "      <td>227.5</td>\n",
              "      <td>1567.75</td>\n",
              "      <td>3100.0</td>\n",
              "    </tr>\n",
              "    <tr>\n",
              "      <th>studio_primary</th>\n",
              "      <td>6523</td>\n",
              "      <td>11</td>\n",
              "      <td>Others</td>\n",
              "      <td>4684</td>\n",
              "      <td>NaN</td>\n",
              "      <td>NaN</td>\n",
              "      <td>NaN</td>\n",
              "      <td>NaN</td>\n",
              "      <td>NaN</td>\n",
              "      <td>NaN</td>\n",
              "      <td>NaN</td>\n",
              "    </tr>\n",
              "    <tr>\n",
              "      <th>studios_colab</th>\n",
              "      <td>6523</td>\n",
              "      <td>2</td>\n",
              "      <td>No</td>\n",
              "      <td>6210</td>\n",
              "      <td>NaN</td>\n",
              "      <td>NaN</td>\n",
              "      <td>NaN</td>\n",
              "      <td>NaN</td>\n",
              "      <td>NaN</td>\n",
              "      <td>NaN</td>\n",
              "      <td>NaN</td>\n",
              "    </tr>\n",
              "    <tr>\n",
              "      <th>genre</th>\n",
              "      <td>6523</td>\n",
              "      <td>9</td>\n",
              "      <td>Other</td>\n",
              "      <td>5468</td>\n",
              "      <td>NaN</td>\n",
              "      <td>NaN</td>\n",
              "      <td>NaN</td>\n",
              "      <td>NaN</td>\n",
              "      <td>NaN</td>\n",
              "      <td>NaN</td>\n",
              "      <td>NaN</td>\n",
              "    </tr>\n",
              "  </tbody>\n",
              "</table>\n",
              "</div>\n",
              "    <div class=\"colab-df-buttons\">\n",
              "\n",
              "  <div class=\"colab-df-container\">\n",
              "    <button class=\"colab-df-convert\" onclick=\"convertToInteractive('df-1320bf2e-5987-4e1d-88e9-6bbfdbbebe21')\"\n",
              "            title=\"Convert this dataframe to an interactive table.\"\n",
              "            style=\"display:none;\">\n",
              "\n",
              "  <svg xmlns=\"http://www.w3.org/2000/svg\" height=\"24px\" viewBox=\"0 -960 960 960\">\n",
              "    <path d=\"M120-120v-720h720v720H120Zm60-500h600v-160H180v160Zm220 220h160v-160H400v160Zm0 220h160v-160H400v160ZM180-400h160v-160H180v160Zm440 0h160v-160H620v160ZM180-180h160v-160H180v160Zm440 0h160v-160H620v160Z\"/>\n",
              "  </svg>\n",
              "    </button>\n",
              "\n",
              "  <style>\n",
              "    .colab-df-container {\n",
              "      display:flex;\n",
              "      gap: 12px;\n",
              "    }\n",
              "\n",
              "    .colab-df-convert {\n",
              "      background-color: #E8F0FE;\n",
              "      border: none;\n",
              "      border-radius: 50%;\n",
              "      cursor: pointer;\n",
              "      display: none;\n",
              "      fill: #1967D2;\n",
              "      height: 32px;\n",
              "      padding: 0 0 0 0;\n",
              "      width: 32px;\n",
              "    }\n",
              "\n",
              "    .colab-df-convert:hover {\n",
              "      background-color: #E2EBFA;\n",
              "      box-shadow: 0px 1px 2px rgba(60, 64, 67, 0.3), 0px 1px 3px 1px rgba(60, 64, 67, 0.15);\n",
              "      fill: #174EA6;\n",
              "    }\n",
              "\n",
              "    .colab-df-buttons div {\n",
              "      margin-bottom: 4px;\n",
              "    }\n",
              "\n",
              "    [theme=dark] .colab-df-convert {\n",
              "      background-color: #3B4455;\n",
              "      fill: #D2E3FC;\n",
              "    }\n",
              "\n",
              "    [theme=dark] .colab-df-convert:hover {\n",
              "      background-color: #434B5C;\n",
              "      box-shadow: 0px 1px 3px 1px rgba(0, 0, 0, 0.15);\n",
              "      filter: drop-shadow(0px 1px 2px rgba(0, 0, 0, 0.3));\n",
              "      fill: #FFFFFF;\n",
              "    }\n",
              "  </style>\n",
              "\n",
              "    <script>\n",
              "      const buttonEl =\n",
              "        document.querySelector('#df-1320bf2e-5987-4e1d-88e9-6bbfdbbebe21 button.colab-df-convert');\n",
              "      buttonEl.style.display =\n",
              "        google.colab.kernel.accessAllowed ? 'block' : 'none';\n",
              "\n",
              "      async function convertToInteractive(key) {\n",
              "        const element = document.querySelector('#df-1320bf2e-5987-4e1d-88e9-6bbfdbbebe21');\n",
              "        const dataTable =\n",
              "          await google.colab.kernel.invokeFunction('convertToInteractive',\n",
              "                                                    [key], {});\n",
              "        if (!dataTable) return;\n",
              "\n",
              "        const docLinkHtml = 'Like what you see? Visit the ' +\n",
              "          '<a target=\"_blank\" href=https://colab.research.google.com/notebooks/data_table.ipynb>data table notebook</a>'\n",
              "          + ' to learn more about interactive tables.';\n",
              "        element.innerHTML = '';\n",
              "        dataTable['output_type'] = 'display_data';\n",
              "        await google.colab.output.renderOutput(dataTable, element);\n",
              "        const docLink = document.createElement('div');\n",
              "        docLink.innerHTML = docLinkHtml;\n",
              "        element.appendChild(docLink);\n",
              "      }\n",
              "    </script>\n",
              "  </div>\n",
              "\n",
              "\n",
              "    <div id=\"df-98c54e39-ad0a-49ec-b4ad-5e8e0aaa8ce2\">\n",
              "      <button class=\"colab-df-quickchart\" onclick=\"quickchart('df-98c54e39-ad0a-49ec-b4ad-5e8e0aaa8ce2')\"\n",
              "                title=\"Suggest charts\"\n",
              "                style=\"display:none;\">\n",
              "\n",
              "<svg xmlns=\"http://www.w3.org/2000/svg\" height=\"24px\"viewBox=\"0 0 24 24\"\n",
              "     width=\"24px\">\n",
              "    <g>\n",
              "        <path d=\"M19 3H5c-1.1 0-2 .9-2 2v14c0 1.1.9 2 2 2h14c1.1 0 2-.9 2-2V5c0-1.1-.9-2-2-2zM9 17H7v-7h2v7zm4 0h-2V7h2v10zm4 0h-2v-4h2v4z\"/>\n",
              "    </g>\n",
              "</svg>\n",
              "      </button>\n",
              "\n",
              "<style>\n",
              "  .colab-df-quickchart {\n",
              "      --bg-color: #E8F0FE;\n",
              "      --fill-color: #1967D2;\n",
              "      --hover-bg-color: #E2EBFA;\n",
              "      --hover-fill-color: #174EA6;\n",
              "      --disabled-fill-color: #AAA;\n",
              "      --disabled-bg-color: #DDD;\n",
              "  }\n",
              "\n",
              "  [theme=dark] .colab-df-quickchart {\n",
              "      --bg-color: #3B4455;\n",
              "      --fill-color: #D2E3FC;\n",
              "      --hover-bg-color: #434B5C;\n",
              "      --hover-fill-color: #FFFFFF;\n",
              "      --disabled-bg-color: #3B4455;\n",
              "      --disabled-fill-color: #666;\n",
              "  }\n",
              "\n",
              "  .colab-df-quickchart {\n",
              "    background-color: var(--bg-color);\n",
              "    border: none;\n",
              "    border-radius: 50%;\n",
              "    cursor: pointer;\n",
              "    display: none;\n",
              "    fill: var(--fill-color);\n",
              "    height: 32px;\n",
              "    padding: 0;\n",
              "    width: 32px;\n",
              "  }\n",
              "\n",
              "  .colab-df-quickchart:hover {\n",
              "    background-color: var(--hover-bg-color);\n",
              "    box-shadow: 0 1px 2px rgba(60, 64, 67, 0.3), 0 1px 3px 1px rgba(60, 64, 67, 0.15);\n",
              "    fill: var(--button-hover-fill-color);\n",
              "  }\n",
              "\n",
              "  .colab-df-quickchart-complete:disabled,\n",
              "  .colab-df-quickchart-complete:disabled:hover {\n",
              "    background-color: var(--disabled-bg-color);\n",
              "    fill: var(--disabled-fill-color);\n",
              "    box-shadow: none;\n",
              "  }\n",
              "\n",
              "  .colab-df-spinner {\n",
              "    border: 2px solid var(--fill-color);\n",
              "    border-color: transparent;\n",
              "    border-bottom-color: var(--fill-color);\n",
              "    animation:\n",
              "      spin 1s steps(1) infinite;\n",
              "  }\n",
              "\n",
              "  @keyframes spin {\n",
              "    0% {\n",
              "      border-color: transparent;\n",
              "      border-bottom-color: var(--fill-color);\n",
              "      border-left-color: var(--fill-color);\n",
              "    }\n",
              "    20% {\n",
              "      border-color: transparent;\n",
              "      border-left-color: var(--fill-color);\n",
              "      border-top-color: var(--fill-color);\n",
              "    }\n",
              "    30% {\n",
              "      border-color: transparent;\n",
              "      border-left-color: var(--fill-color);\n",
              "      border-top-color: var(--fill-color);\n",
              "      border-right-color: var(--fill-color);\n",
              "    }\n",
              "    40% {\n",
              "      border-color: transparent;\n",
              "      border-right-color: var(--fill-color);\n",
              "      border-top-color: var(--fill-color);\n",
              "    }\n",
              "    60% {\n",
              "      border-color: transparent;\n",
              "      border-right-color: var(--fill-color);\n",
              "    }\n",
              "    80% {\n",
              "      border-color: transparent;\n",
              "      border-right-color: var(--fill-color);\n",
              "      border-bottom-color: var(--fill-color);\n",
              "    }\n",
              "    90% {\n",
              "      border-color: transparent;\n",
              "      border-bottom-color: var(--fill-color);\n",
              "    }\n",
              "  }\n",
              "</style>\n",
              "\n",
              "      <script>\n",
              "        async function quickchart(key) {\n",
              "          const quickchartButtonEl =\n",
              "            document.querySelector('#' + key + ' button');\n",
              "          quickchartButtonEl.disabled = true;  // To prevent multiple clicks.\n",
              "          quickchartButtonEl.classList.add('colab-df-spinner');\n",
              "          try {\n",
              "            const charts = await google.colab.kernel.invokeFunction(\n",
              "                'suggestCharts', [key], {});\n",
              "          } catch (error) {\n",
              "            console.error('Error during call to suggestCharts:', error);\n",
              "          }\n",
              "          quickchartButtonEl.classList.remove('colab-df-spinner');\n",
              "          quickchartButtonEl.classList.add('colab-df-quickchart-complete');\n",
              "        }\n",
              "        (() => {\n",
              "          let quickchartButtonEl =\n",
              "            document.querySelector('#df-98c54e39-ad0a-49ec-b4ad-5e8e0aaa8ce2 button');\n",
              "          quickchartButtonEl.style.display =\n",
              "            google.colab.kernel.accessAllowed ? 'block' : 'none';\n",
              "        })();\n",
              "      </script>\n",
              "    </div>\n",
              "\n",
              "    </div>\n",
              "  </div>\n"
            ],
            "application/vnd.google.colaboratory.intrinsic+json": {
              "type": "dataframe",
              "summary": "{\n  \"name\": \"data\",\n  \"rows\": 15,\n  \"fields\": [\n    {\n      \"column\": \"count\",\n      \"properties\": {\n        \"dtype\": \"date\",\n        \"min\": \"4114\",\n        \"max\": \"6523\",\n        \"num_unique_values\": 4,\n        \"samples\": [\n          \"6496\",\n          \"4114\",\n          \"6523\"\n        ],\n        \"semantic_type\": \"\",\n        \"description\": \"\"\n      }\n    },\n    {\n      \"column\": \"unique\",\n      \"properties\": {\n        \"dtype\": \"date\",\n        \"min\": 2,\n        \"max\": 6523,\n        \"num_unique_values\": 6,\n        \"samples\": [\n          6523,\n          8,\n          9\n        ],\n        \"semantic_type\": \"\",\n        \"description\": \"\"\n      }\n    },\n    {\n      \"column\": \"top\",\n      \"properties\": {\n        \"dtype\": \"category\",\n        \"num_unique_values\": 6,\n        \"samples\": [\n          \"xxxHOLiC Kei\",\n          \"TV\",\n          \"Other\"\n        ],\n        \"semantic_type\": \"\",\n        \"description\": \"\"\n      }\n    },\n    {\n      \"column\": \"freq\",\n      \"properties\": {\n        \"dtype\": \"date\",\n        \"min\": \"1\",\n        \"max\": \"6210\",\n        \"num_unique_values\": 7,\n        \"samples\": [\n          \"1\",\n          \"2145\",\n          \"6210\"\n        ],\n        \"semantic_type\": \"\",\n        \"description\": \"\"\n      }\n    },\n    {\n      \"column\": \"mean\",\n      \"properties\": {\n        \"dtype\": \"date\",\n        \"min\": 2.962553426337575,\n        \"max\": 2005.5753487659053,\n        \"num_unique_values\": 8,\n        \"samples\": [\n          18.39628681177977,\n          57.44565384025755,\n          8.716234861260157\n        ],\n        \"semantic_type\": \"\",\n        \"description\": \"\"\n      }\n    },\n    {\n      \"column\": \"std\",\n      \"properties\": {\n        \"dtype\": \"date\",\n        \"min\": 0.7604856034004107,\n        \"max\": 1737.1381115892618,\n        \"num_unique_values\": 8,\n        \"samples\": [\n          20.949350041107927,\n          76.52740456754358,\n          11.002479096236929\n        ],\n        \"semantic_type\": \"\",\n        \"description\": \"\"\n      }\n    },\n    {\n      \"column\": \"min\",\n      \"properties\": {\n        \"dtype\": \"date\",\n        \"min\": 0.0,\n        \"max\": 1970.0,\n        \"num_unique_values\": 7,\n        \"samples\": [\n          1.0,\n          1967.0,\n          1.111\n        ],\n        \"semantic_type\": \"\",\n        \"description\": \"\"\n      }\n    },\n    {\n      \"column\": \"25%\",\n      \"properties\": {\n        \"dtype\": \"date\",\n        \"min\": 1.0,\n        \"max\": 2000.0,\n        \"num_unique_values\": 7,\n        \"samples\": [\n          1.0,\n          5.0,\n          2.371\n        ],\n        \"semantic_type\": \"\",\n        \"description\": \"\"\n      }\n    },\n    {\n      \"column\": \"50%\",\n      \"properties\": {\n        \"dtype\": \"date\",\n        \"min\": 1.0,\n        \"max\": 2010.0,\n        \"num_unique_values\": 7,\n        \"samples\": [\n          1.0,\n          7.0,\n          2.944\n        ],\n        \"semantic_type\": \"\",\n        \"description\": \"\"\n      }\n    },\n    {\n      \"column\": \"75%\",\n      \"properties\": {\n        \"dtype\": \"date\",\n        \"min\": 3.568,\n        \"max\": 2252.5,\n        \"num_unique_values\": 7,\n        \"samples\": [\n          12.0,\n          25.0,\n          3.568\n        ],\n        \"semantic_type\": \"\",\n        \"description\": \"\"\n      }\n    },\n    {\n      \"column\": \"max\",\n      \"properties\": {\n        \"dtype\": \"date\",\n        \"min\": 4.702,\n        \"max\": 4649.0,\n        \"num_unique_values\": 7,\n        \"samples\": [\n          34.0,\n          67.0,\n          4.702\n        ],\n        \"semantic_type\": \"\",\n        \"description\": \"\"\n      }\n    }\n  ]\n}"
            }
          },
          "metadata": {},
          "execution_count": 13
        }
      ],
      "source": [
        "data.describe(include=\"all\").T"
      ]
    },
    {
      "cell_type": "markdown",
      "metadata": {
        "id": "SBFm-rJo-qT5"
      },
      "source": [
        "* We can see that the anime ratings vary between 1.1 and 4.7, which suggests that the anime were rated on a scale of 0-5\n",
        "* The general rating of anime is 2.96\n",
        "* *TV* is the most occurring type of media.\n",
        "* The number of views for the anime in the data varies from 5 to ~5000\n",
        "* The number of votes received by an anime in the data varies from 10 to 3100"
      ]
    },
    {
      "cell_type": "markdown",
      "metadata": {
        "id": "xNr4bWoM-qT5"
      },
      "source": [
        "### Checking for duplicate values"
      ]
    },
    {
      "cell_type": "code",
      "execution_count": 14,
      "metadata": {
        "colab": {
          "base_uri": "https://localhost:8080/"
        },
        "id": "YgVk5F0-C-OT",
        "outputId": "a414059a-ca87-477f-b034-ced45fe6fb4e"
      },
      "outputs": [
        {
          "output_type": "execute_result",
          "data": {
            "text/plain": [
              "np.int64(0)"
            ]
          },
          "metadata": {},
          "execution_count": 14
        }
      ],
      "source": [
        "data.duplicated().sum()"
      ]
    },
    {
      "cell_type": "markdown",
      "metadata": {
        "id": "vGlBm81cC-OT"
      },
      "source": [
        "* There are no duplicate values in the data"
      ]
    },
    {
      "cell_type": "markdown",
      "metadata": {
        "id": "Ch_TjRfF-qT5"
      },
      "source": [
        "### Checking for missing values"
      ]
    },
    {
      "cell_type": "code",
      "execution_count": 15,
      "metadata": {
        "colab": {
          "base_uri": "https://localhost:8080/",
          "height": 554
        },
        "id": "iaHeNmvo-qT6",
        "outputId": "72fe448f-daba-49f7-8ad1-b102bb7befc6"
      },
      "outputs": [
        {
          "output_type": "execute_result",
          "data": {
            "text/plain": [
              "title                0\n",
              "mediaType           27\n",
              "eps                  0\n",
              "duration           275\n",
              "startYr              0\n",
              "finishYr             0\n",
              "description       2409\n",
              "contentWarn          0\n",
              "watched              0\n",
              "watching             0\n",
              "rating               0\n",
              "votes               27\n",
              "studio_primary       0\n",
              "studios_colab        0\n",
              "genre                0\n",
              "dtype: int64"
            ],
            "text/html": [
              "<div>\n",
              "<style scoped>\n",
              "    .dataframe tbody tr th:only-of-type {\n",
              "        vertical-align: middle;\n",
              "    }\n",
              "\n",
              "    .dataframe tbody tr th {\n",
              "        vertical-align: top;\n",
              "    }\n",
              "\n",
              "    .dataframe thead th {\n",
              "        text-align: right;\n",
              "    }\n",
              "</style>\n",
              "<table border=\"1\" class=\"dataframe\">\n",
              "  <thead>\n",
              "    <tr style=\"text-align: right;\">\n",
              "      <th></th>\n",
              "      <th>0</th>\n",
              "    </tr>\n",
              "  </thead>\n",
              "  <tbody>\n",
              "    <tr>\n",
              "      <th>title</th>\n",
              "      <td>0</td>\n",
              "    </tr>\n",
              "    <tr>\n",
              "      <th>mediaType</th>\n",
              "      <td>27</td>\n",
              "    </tr>\n",
              "    <tr>\n",
              "      <th>eps</th>\n",
              "      <td>0</td>\n",
              "    </tr>\n",
              "    <tr>\n",
              "      <th>duration</th>\n",
              "      <td>275</td>\n",
              "    </tr>\n",
              "    <tr>\n",
              "      <th>startYr</th>\n",
              "      <td>0</td>\n",
              "    </tr>\n",
              "    <tr>\n",
              "      <th>finishYr</th>\n",
              "      <td>0</td>\n",
              "    </tr>\n",
              "    <tr>\n",
              "      <th>description</th>\n",
              "      <td>2409</td>\n",
              "    </tr>\n",
              "    <tr>\n",
              "      <th>contentWarn</th>\n",
              "      <td>0</td>\n",
              "    </tr>\n",
              "    <tr>\n",
              "      <th>watched</th>\n",
              "      <td>0</td>\n",
              "    </tr>\n",
              "    <tr>\n",
              "      <th>watching</th>\n",
              "      <td>0</td>\n",
              "    </tr>\n",
              "    <tr>\n",
              "      <th>rating</th>\n",
              "      <td>0</td>\n",
              "    </tr>\n",
              "    <tr>\n",
              "      <th>votes</th>\n",
              "      <td>27</td>\n",
              "    </tr>\n",
              "    <tr>\n",
              "      <th>studio_primary</th>\n",
              "      <td>0</td>\n",
              "    </tr>\n",
              "    <tr>\n",
              "      <th>studios_colab</th>\n",
              "      <td>0</td>\n",
              "    </tr>\n",
              "    <tr>\n",
              "      <th>genre</th>\n",
              "      <td>0</td>\n",
              "    </tr>\n",
              "  </tbody>\n",
              "</table>\n",
              "</div><br><label><b>dtype:</b> int64</label>"
            ]
          },
          "metadata": {},
          "execution_count": 15
        }
      ],
      "source": [
        "data.isnull().sum()"
      ]
    },
    {
      "cell_type": "markdown",
      "metadata": {
        "id": "XjQof-y7-qT6"
      },
      "source": [
        "* There are missing values in many columns."
      ]
    },
    {
      "cell_type": "code",
      "execution_count": 16,
      "metadata": {
        "id": "WoL1qjt7-qT6"
      },
      "outputs": [],
      "source": [
        "# creating a copy of the data so that original data remains unchanged\n",
        "df = data.copy()"
      ]
    },
    {
      "cell_type": "markdown",
      "metadata": {
        "id": "VjmJBEKSQjcH"
      },
      "source": [
        "## <a name='link2'>Exploratory Data Analysis (EDA) Summary</a>"
      ]
    },
    {
      "cell_type": "markdown",
      "metadata": {
        "id": "ftd1CbHOB6PZ"
      },
      "source": [
        "### **Note**: The EDA section has been covered multiple times in the previous case studies. In this case study, we will mainly focus on the model building aspects. We will only be looking at the key observations from EDA. The detailed EDA can be found in the <a href = #link1>appendix section</a>."
      ]
    },
    {
      "cell_type": "markdown",
      "metadata": {
        "id": "Fe4tCS5PCFZk"
      },
      "source": [
        "**The below functions need to be defined to carry out the EDA.**"
      ]
    },
    {
      "cell_type": "code",
      "execution_count": 21,
      "metadata": {
        "id": "OoEbORxyCIcS"
      },
      "outputs": [],
      "source": [
        "def histogram_boxplot(data, feature, figsize=(15, 10), kde=False, bins=None):\n",
        "    \"\"\"\n",
        "    Boxplot and histogram combined\n",
        "\n",
        "    data: dataframe\n",
        "    feature: dataframe column\n",
        "    figsize: size of figure (default (15,10))\n",
        "    kde: whether to show the density curve (default False)\n",
        "    bins: number of bins for histogram (default None)\n",
        "    \"\"\"\n",
        "    f2, (ax_box2, ax_hist2) = plt.subplots(\n",
        "        nrows=2,  # Number of rows of the subplot grid= 2\n",
        "        sharex=True,  # x-axis will be shared among all subplots\n",
        "        gridspec_kw={\"height_ratios\": (0.25, 0.75)},\n",
        "        figsize=figsize,\n",
        "    )  # creating the 2 subplots\n",
        "    sns.boxplot(\n",
        "        data=data, x=feature, ax=ax_box2, showmeans=True, color=\"violet\"\n",
        "    )  # boxplot will be created and a triangle will indicate the mean value of the column\n",
        "    sns.histplot(\n",
        "        data=data, x=feature, kde=kde, ax=ax_hist2, bins=bins\n",
        "    ) if bins else sns.histplot(\n",
        "        data=data, x=feature, kde=kde, ax=ax_hist2\n",
        "    )  # For histogram\n",
        "    ax_hist2.axvline(\n",
        "        data[feature].mean(), color=\"green\", linestyle=\"--\"\n",
        "    )  # Add mean to the histogram\n",
        "    ax_hist2.axvline(\n",
        "        data[feature].median(), color=\"black\", linestyle=\"-\"\n",
        "    )  # Add median to the histogram"
      ]
    },
    {
      "cell_type": "code",
      "execution_count": 19,
      "metadata": {
        "id": "DR4f_2DVCK_K"
      },
      "outputs": [],
      "source": [
        "# function to create labeled barplots\n",
        "\n",
        "\n",
        "def labeled_barplot(data, feature, perc=False, n=None):\n",
        "    \"\"\"\n",
        "    Barplot with percentage at the top\n",
        "\n",
        "    data: dataframe\n",
        "    feature: dataframe column\n",
        "    perc: whether to display percentages instead of count (default is False)\n",
        "    n: displays the top n category levels (default is None, i.e., display all levels)\n",
        "    \"\"\"\n",
        "\n",
        "    total = len(data[feature])  # length of the column\n",
        "    count = data[feature].nunique()\n",
        "    if n is None:\n",
        "        plt.figure(figsize=(count + 2, 6))\n",
        "    else:\n",
        "        plt.figure(figsize=(n + 2, 6))\n",
        "\n",
        "    plt.xticks(rotation=90, fontsize=15)\n",
        "    ax = sns.countplot(\n",
        "        data=data,\n",
        "        x=feature,\n",
        "        hue=feature,\n",
        "        palette=\"Paired\",\n",
        "        order=data[feature].value_counts().index[:n],\n",
        "    )\n",
        "\n",
        "    for p in ax.patches:\n",
        "        if perc == True:\n",
        "            label = \"{:.1f}%\".format(\n",
        "                100 * p.get_height() / total\n",
        "            )  # percentage of each class of the category\n",
        "        else:\n",
        "            label = p.get_height()  # count of each level of the category\n",
        "\n",
        "        x = p.get_x() + p.get_width() / 2  # width of the plot\n",
        "        y = p.get_height()  # height of the plot\n",
        "\n",
        "        ax.annotate(\n",
        "            label,\n",
        "            (x, y),\n",
        "            ha=\"center\",\n",
        "            va=\"center\",\n",
        "            size=12,\n",
        "            xytext=(0, 5),\n",
        "            textcoords=\"offset points\",\n",
        "        )  # annotate the percentage\n",
        "\n",
        "    plt.show()  # show the plot"
      ]
    },
    {
      "cell_type": "code",
      "execution_count": 22,
      "metadata": {
        "colab": {
          "base_uri": "https://localhost:8080/",
          "height": 858
        },
        "id": "Zs74uLkiCMQH",
        "outputId": "c68ad8db-959c-4688-99bb-064bac11f4a3"
      },
      "outputs": [
        {
          "output_type": "display_data",
          "data": {
            "text/plain": [
              "<Figure size 1500x1000 with 2 Axes>"
            ],
            "image/png": "[encoded data removed]"
          },
          "metadata": {}
        }
      ],
      "source": [
        "histogram_boxplot(df, \"rating\")"
      ]
    },
    {
      "cell_type": "markdown",
      "metadata": {
        "id": "pf5FSgDYCpvG"
      },
      "source": [
        "* The anime ratings are close to normally distributed with fatter tails\n",
        "* Anime are rated approximately 3 by viewers on average"
      ]
    },
    {
      "cell_type": "code",
      "execution_count": null,
      "metadata": {
        "id": "ymUF8aiqCz98"
      },
      "outputs": [],
      "source": [
        "histogram_boxplot(df, \"duration\")"
      ]
    },
    {
      "cell_type": "markdown",
      "metadata": {
        "id": "D69kGfTSCzGe"
      },
      "source": [
        "* The distribution for duration column is right-skewed with a median runtime of less than 10 minutes\n",
        "* There are a few anime with episodes having 1 hour or more runtime, and are likely to be movies\n",
        "\n",
        "\n"
      ]
    },
    {
      "cell_type": "code",
      "execution_count": null,
      "metadata": {
        "id": "ZGgxXwFSDNzt"
      },
      "outputs": [],
      "source": [
        "histogram_boxplot(df, \"watched\", bins=50)"
      ]
    },
    {
      "cell_type": "markdown",
      "metadata": {
        "id": "KpFmNJEIDOuI"
      },
      "source": [
        "* The distribution for watched is heavily right-skewed, and most of the anime having less than 500 viewers\n",
        "* There is a spike at ~4500 in the histogram, indicating that there are anime which have been viewed by a lot of users"
      ]
    },
    {
      "cell_type": "code",
      "execution_count": null,
      "metadata": {
        "id": "NADGNkM-DaUG"
      },
      "outputs": [],
      "source": [
        "histogram_boxplot(df, \"watching\", bins=50)"
      ]
    },
    {
      "cell_type": "markdown",
      "metadata": {
        "id": "GC5aOj3RDY15"
      },
      "source": [
        "* The distribution for `watching` is heavily right-skewed, and most of the anime have less than 50 current viewers\n",
        "* There is a spike at ~200 in the histogram, indicating that there are anime which are being viewed by a lot of users"
      ]
    },
    {
      "cell_type": "code",
      "execution_count": null,
      "metadata": {
        "id": "P5NIbE-0EIwq"
      },
      "outputs": [],
      "source": [
        "labeled_barplot(df, \"mediaType\", perc=True)"
      ]
    },
    {
      "cell_type": "markdown",
      "metadata": {
        "id": "dN1Ny6uBEDDU"
      },
      "source": [
        "* Approximately one-third of the anime have been released for TV\n",
        "* 9% of the anime have been released as web series, which is a little surprising"
      ]
    },
    {
      "cell_type": "code",
      "execution_count": null,
      "metadata": {
        "id": "PD8YQ2heGMiu"
      },
      "outputs": [],
      "source": [
        "# creating a list of numerical columns\n",
        "num_cols = df.select_dtypes(include=np.number).columns.tolist()\n",
        "\n",
        "# dropping start and finish year from list of numerical columns as they are not numerical in nature\n",
        "num_cols.remove(\"startYr\")\n",
        "num_cols.remove(\"finishYr\")"
      ]
    },
    {
      "cell_type": "code",
      "execution_count": null,
      "metadata": {
        "id": "8cx-I-saF_Pk"
      },
      "outputs": [],
      "source": [
        "plt.figure(figsize=(12, 7))\n",
        "sns.heatmap(\n",
        "    df[num_cols].corr(), annot=True, vmin=-1, vmax=1, fmt=\".2f\", cmap=\"Spectral\"\n",
        ")\n",
        "plt.show()"
      ]
    },
    {
      "cell_type": "markdown",
      "metadata": {
        "id": "8AHCHBVZGAXF"
      },
      "source": [
        "* The rating of an anime is highly correlated with the number of people who have watched the anime and voted for it on the portal\n",
        "* The number of people who have watched the anime is highly correlated with the number of people who are watching the anime\n",
        "* The number of people who have watched the anime is very highly correlated with the number of people who have voted for the anime on the portal"
      ]
    },
    {
      "cell_type": "code",
      "execution_count": null,
      "metadata": {
        "id": "-nLQjELfIW3Z"
      },
      "outputs": [],
      "source": [
        "plt.figure(figsize=(10, 5))\n",
        "sns.boxplot(data=df, x=\"mediaType\", y=\"rating\")\n",
        "plt.show()"
      ]
    },
    {
      "cell_type": "markdown",
      "metadata": {
        "id": "PRUCZOJMIYWn"
      },
      "source": [
        "* Anime available as web series or music videos have a lower rating in general"
      ]
    },
    {
      "cell_type": "code",
      "execution_count": null,
      "metadata": {
        "id": "6P8Mwv1DGb8w"
      },
      "outputs": [],
      "source": [
        "plt.figure(figsize=(15, 5))\n",
        "sns.boxplot(data=df, x=\"genre\", y=\"rating\")\n",
        "plt.show()"
      ]
    },
    {
      "cell_type": "markdown",
      "metadata": {
        "id": "wM_HXGIKGug6"
      },
      "source": [
        "* Anime under the genre of Drama are rated the highest in general, while those under the genre of Comedy and rated the least"
      ]
    },
    {
      "cell_type": "code",
      "execution_count": null,
      "metadata": {
        "id": "Sf4p3w3wGept"
      },
      "outputs": [],
      "source": [
        "plt.figure(figsize=(15, 5))\n",
        "sns.boxplot(data=df, x=\"genre\", y=\"watched\")\n",
        "plt.show()"
      ]
    },
    {
      "cell_type": "markdown",
      "metadata": {
        "id": "ivNZL3tcGeNU"
      },
      "source": [
        "* Anime under the genres of Drama and Romance have higher viewership in general"
      ]
    },
    {
      "cell_type": "code",
      "execution_count": null,
      "metadata": {
        "id": "wAI-7QM5Gfnc"
      },
      "outputs": [],
      "source": [
        "plt.figure(figsize=(15, 5))\n",
        "sns.boxplot(data=df, x=\"genre\", y=\"watching\")\n",
        "plt.show()"
      ]
    },
    {
      "cell_type": "markdown",
      "metadata": {
        "id": "jCiTS3VSIl-k"
      },
      "source": [
        "* Anime from the Drama and Romance genres are being watched more in general"
      ]
    },
    {
      "cell_type": "code",
      "execution_count": null,
      "metadata": {
        "id": "5L1vPUuIlMVl"
      },
      "outputs": [],
      "source": [
        "plt.figure(figsize=(10, 5))\n",
        "sns.boxplot(data=df, x=\"mediaType\", y=\"duration\")\n",
        "plt.show()"
      ]
    },
    {
      "cell_type": "markdown",
      "metadata": {
        "id": "Q8c5wTb_lMVm"
      },
      "source": [
        "* Anime released as movies or TV speicals have the highest duration while music videos have the lowest, which is expected"
      ]
    },
    {
      "cell_type": "markdown",
      "metadata": {
        "id": "kQ5wsxwA-qUG"
      },
      "source": [
        "## Data Preprocessing"
      ]
    },
    {
      "cell_type": "markdown",
      "metadata": {
        "id": "wYF-RsrNqH0E"
      },
      "source": [
        "### Missing Value Treatment"
      ]
    },
    {
      "cell_type": "code",
      "execution_count": null,
      "metadata": {
        "id": "jvXgF1J3-qUH"
      },
      "outputs": [],
      "source": [
        "df.isnull().sum()"
      ]
    },
    {
      "cell_type": "markdown",
      "metadata": {
        "id": "_AFN0aGk-qUH"
      },
      "source": [
        "Let's fix the missing values in the data.\n",
        "\n",
        "- For the variable `mediaType`, we will impute the missing values with '*Other*' as the exact values for that category are not known\n",
        "- For the variables `duration` and `votes`, we will impute the missing values in each column with the median grouped by `genre` and `mediaType` as both the columns have skewed distributions"
      ]
    },
    {
      "cell_type": "code",
      "execution_count": null,
      "metadata": {
        "id": "SDbSvjhR-qUH"
      },
      "outputs": [],
      "source": [
        "# we first create a copy of the data to avoid changes to it\n",
        "df1 = df.copy()"
      ]
    },
    {
      "cell_type": "code",
      "execution_count": null,
      "metadata": {
        "id": "u_nkqf4I-qUI"
      },
      "outputs": [],
      "source": [
        "df1.mediaType.fillna(\"Other\", inplace=True)"
      ]
    },
    {
      "cell_type": "code",
      "execution_count": null,
      "metadata": {
        "id": "RkPvobr4-qUI"
      },
      "outputs": [],
      "source": [
        "df1[\"duration\"] = df1[\"duration\"].fillna(\n",
        "    value=df1.groupby([\"genre\", \"mediaType\"])[\"duration\"].transform(\"median\")\n",
        ")\n",
        "df1[\"votes\"] = df1[\"votes\"].fillna(\n",
        "    value=df1.groupby([\"genre\", \"mediaType\"])[\"votes\"].transform(\"median\")\n",
        ")\n",
        "\n",
        "df1.isnull().sum()"
      ]
    },
    {
      "cell_type": "markdown",
      "metadata": {
        "id": "c4zHqWJf-qUI"
      },
      "source": [
        "* We will impute the remaining missing values in the `duration` column with the median grouped by `genre`"
      ]
    },
    {
      "cell_type": "code",
      "execution_count": null,
      "metadata": {
        "id": "99vleHsL-qUI"
      },
      "outputs": [],
      "source": [
        "df1[\"duration\"] = df1[\"duration\"].fillna(\n",
        "    value=df1.groupby([\"genre\"])[\"duration\"].transform(\"median\")\n",
        ")\n",
        "\n",
        "df1.isnull().sum()"
      ]
    },
    {
      "cell_type": "markdown",
      "metadata": {
        "id": "VANP78tq-qUJ"
      },
      "source": [
        "- All the missing values have been treated."
      ]
    },
    {
      "cell_type": "markdown",
      "metadata": {
        "id": "iqLh_w63-qUJ"
      },
      "source": [
        "### Feature Engineering"
      ]
    },
    {
      "cell_type": "markdown",
      "metadata": {
        "id": "g0jUAxDX-qUJ"
      },
      "source": [
        "* Let's create a new feature `years_running` by taking the difference between `finishYr` and `startYr` columns\n",
        "* We will drop the original columns once the new feature is created as the year values themselves are not numerical in nature"
      ]
    },
    {
      "cell_type": "code",
      "execution_count": null,
      "metadata": {
        "id": "qFWtCpE7-qUJ"
      },
      "outputs": [],
      "source": [
        "df1[\"years_running\"] = df1[\"finishYr\"] - df1[\"startYr\"]\n",
        "df1.drop([\"startYr\", \"finishYr\"], axis=1, inplace=True)\n",
        "df1.head()"
      ]
    },
    {
      "cell_type": "markdown",
      "metadata": {
        "id": "TeuhzPWVbtGq"
      },
      "source": [
        "### Outlier Detection"
      ]
    },
    {
      "cell_type": "code",
      "execution_count": null,
      "metadata": {
        "id": "IhFdx_FnNAC8"
      },
      "outputs": [],
      "source": [
        "# outlier detection using boxplot\n",
        "num_cols = df1.select_dtypes(include=np.number).columns.tolist()\n",
        "\n",
        "plt.figure(figsize=(15, 10))\n",
        "\n",
        "for i, variable in enumerate(num_cols):\n",
        "    plt.subplot(3, 3, i + 1)\n",
        "    sns.boxplot(data=df1, x=variable)\n",
        "    plt.tight_layout(pad=2)\n",
        "\n",
        "plt.show()"
      ]
    },
    {
      "cell_type": "markdown",
      "metadata": {
        "id": "eR_WgxyUE0uU"
      },
      "source": [
        "- There are a few outliers in the data\n",
        "- However, we will not treat them as they are proper values\n",
        "- We will drop the columns `title` and `description` as they contain a lot of text and too many unique values, and can be excluded from modeling"
      ]
    },
    {
      "cell_type": "code",
      "execution_count": null,
      "metadata": {
        "id": "4qsAAvsO-qUL"
      },
      "outputs": [],
      "source": [
        "df1.drop([\"title\", \"description\"], axis=1, inplace=True)\n",
        "df1.head()"
      ]
    },
    {
      "cell_type": "markdown",
      "metadata": {
        "id": "1THqC335b4Yi"
      },
      "source": [
        "### Data Preparation for Modeling"
      ]
    },
    {
      "cell_type": "markdown",
      "metadata": {
        "id": "lUSYueQxAngg"
      },
      "source": [
        "- We want to predict the rating of an anime\n",
        "- Before we proceed to build a model, we'll have to encode categorical features\n",
        "- We'll split the data into train and test to be able to evaluate the model that we build on the train data\n",
        "- We will build a Linear Regression model using the train data and then check it's performance"
      ]
    },
    {
      "cell_type": "code",
      "execution_count": null,
      "metadata": {
        "id": "372WHRhJGpj4"
      },
      "outputs": [],
      "source": [
        "# defining X and y variables\n",
        "X = df1.drop([\"rating\"], axis=1)\n",
        "y = df1[\"rating\"]\n",
        "\n",
        "print(X.head())\n",
        "print(y.head())"
      ]
    },
    {
      "cell_type": "code",
      "execution_count": null,
      "metadata": {
        "id": "U3dbod_t-qUM"
      },
      "outputs": [],
      "source": [
        "# let's add the intercept to data\n",
        "X = sm.add_constant(X)"
      ]
    },
    {
      "cell_type": "code",
      "execution_count": null,
      "metadata": {
        "id": "AHEOjrb8N-4b"
      },
      "outputs": [],
      "source": [
        "# creating dummy variables\n",
        "X = pd.get_dummies(\n",
        "    X,\n",
        "    columns=X.select_dtypes(include=[\"object\", \"category\"]).columns.tolist(),\n",
        "    drop_first=True\n",
        ")\n",
        "\n",
        "X.head()"
      ]
    },
    {
      "cell_type": "code",
      "source": [
        "# converting the input attributes into float type for modeling\n",
        "X = X.astype(float)\n",
        "X.head()"
      ],
      "metadata": {
        "id": "1biluMiKG3GM"
      },
      "execution_count": null,
      "outputs": []
    },
    {
      "cell_type": "code",
      "execution_count": null,
      "metadata": {
        "id": "CBXfTtAPGoaF"
      },
      "outputs": [],
      "source": [
        "# splitting the data in 70:30 ratio for train to test data\n",
        "\n",
        "x_train, x_test, y_train, y_test = train_test_split(X, y, test_size=0.3, random_state=1)"
      ]
    },
    {
      "cell_type": "code",
      "execution_count": null,
      "metadata": {
        "id": "Drw9GAU5-qUN"
      },
      "outputs": [],
      "source": [
        "print(\"Number of rows in train data =\", x_train.shape[0])\n",
        "print(\"Number of rows in test data =\", x_test.shape[0])"
      ]
    },
    {
      "cell_type": "markdown",
      "metadata": {
        "id": "G9_JGYY_-qUN"
      },
      "source": [
        "## Model Building - Linear Regression"
      ]
    },
    {
      "cell_type": "code",
      "source": [
        "x_train"
      ],
      "metadata": {
        "id": "JFly_CJn_du6"
      },
      "execution_count": null,
      "outputs": []
    },
    {
      "cell_type": "code",
      "execution_count": null,
      "metadata": {
        "id": "AQ_s8bVsH3hu",
        "scrolled": false
      },
      "outputs": [],
      "source": [
        "olsmodel = sm.OLS(y_train, x_train).fit()\n",
        "print(olsmodel.summary())"
      ]
    },
    {
      "cell_type": "markdown",
      "metadata": {
        "id": "vSK7ThIK1Le2"
      },
      "source": [
        "### Interpreting the Regression Results:"
      ]
    },
    {
      "cell_type": "markdown",
      "metadata": {
        "id": "lUO-aovo1L6i"
      },
      "source": [
        "1. **Adjusted. R-squared**: It reflects the fit of the model.\n",
        "    - Adjusted R-squared values generally range from 0 to 1, where a higher value generally indicates a better fit, assuming certain conditions are met.\n",
        "    - In our case, the value for adj. R-squared is **0.722**, which is good.\n",
        "\n",
        "\n",
        "2. ***const* coefficient**: It is the Y-intercept.\n",
        "    - It means that if all the predictor variable coefficients are zero, then the expected output (i.e., Y) would be equal to the *const* coefficient.\n",
        "    - In our case, the value for `const` coefficient is **2.7707**\n",
        "\n",
        "\n",
        "3. **Coefficient of a predictor variable**: It represents the change in the output Y due to a change in the predictor variable (everything else held constant).\n",
        "    - In our case, the coefficient of `duration` is **0.0123**."
      ]
    },
    {
      "cell_type": "markdown",
      "metadata": {
        "id": "GhWcTffM-qUN"
      },
      "source": [
        "### Model Performance Check"
      ]
    },
    {
      "cell_type": "markdown",
      "metadata": {
        "id": "6a7pUm3x-qUN"
      },
      "source": [
        "Let's check the performance of the model using different metrics.\n",
        "\n",
        "* We will be using metric functions defined in sklearn for RMSE, MAE, and $R^2$.\n",
        "* We will define a function to calculate MAPE and adjusted $R^2$.\n",
        "    - The mean absolute percentage error (MAPE) measures the accuracy of predictions as a percentage, and can be calculated as the average absolute percent error for each predicted value minus actual values divided by actual values. It works best if there are no extreme values in the data and none of the actual values are 0.\n",
        "    \n",
        "* We will create a function which will print out all the above metrics in one go."
      ]
    },
    {
      "cell_type": "code",
      "execution_count": null,
      "metadata": {
        "id": "deaapIIvlJIL"
      },
      "outputs": [],
      "source": [
        "# function to compute adjusted R-squared\n",
        "def adj_r2_score(predictors, targets, predictions):\n",
        "    r2 = r2_score(targets, predictions)\n",
        "    n = predictors.shape[0]\n",
        "    k = predictors.shape[1]\n",
        "    return 1 - ((1 - r2) * (n - 1) / (n - k - 1))\n",
        "\n",
        "\n",
        "# function to compute MAPE\n",
        "def mape_score(targets, predictions):\n",
        "    return np.mean(np.abs(targets - predictions) / targets) * 100\n",
        "\n",
        "\n",
        "# function to compute different metrics to check performance of a regression model\n",
        "def model_performance_regression(model, predictors, target):\n",
        "    \"\"\"\n",
        "    Function to compute different metrics to check regression model performance\n",
        "\n",
        "    model: regressor\n",
        "    predictors: independent variables\n",
        "    target: dependent variable\n",
        "    \"\"\"\n",
        "\n",
        "    # predicting using the independent variables\n",
        "    pred = model.predict(predictors)\n",
        "\n",
        "    r2 = r2_score(target, pred)  # to compute R-squared\n",
        "    adjr2 = adj_r2_score(predictors, target, pred)  # to compute adjusted R-squared\n",
        "    rmse = np.sqrt(mean_squared_error(target, pred))  # to compute RMSE\n",
        "    mae = mean_absolute_error(target, pred)  # to compute MAE\n",
        "    mape = mape_score(target, pred)  # to compute MAPE\n",
        "\n",
        "    # creating a dataframe of metrics\n",
        "    df_perf = pd.DataFrame(\n",
        "        {\n",
        "            \"RMSE\": rmse,\n",
        "            \"MAE\": mae,\n",
        "            \"R-squared\": r2,\n",
        "            \"Adj. R-squared\": adjr2,\n",
        "            \"MAPE\": mape,\n",
        "        },\n",
        "        index=[0],\n",
        "    )\n",
        "\n",
        "    return df_perf"
      ]
    },
    {
      "cell_type": "code",
      "execution_count": null,
      "metadata": {
        "id": "vVBBaPtf-BZd"
      },
      "outputs": [],
      "source": [
        "# checking model performance on train set (seen 70% data)\n",
        "print(\"Training Performance\\n\")\n",
        "olsmodel_train_perf = model_performance_regression(olsmodel, x_train, y_train)\n",
        "olsmodel_train_perf"
      ]
    },
    {
      "cell_type": "code",
      "execution_count": null,
      "metadata": {
        "id": "Sv51vNBhlJIL"
      },
      "outputs": [],
      "source": [
        "# checking model performance on test set (seen 30% data)\n",
        "print(\"Test Performance\\n\")\n",
        "olsmodel_test_perf = model_performance_regression(olsmodel, x_test, y_test)\n",
        "olsmodel_test_perf"
      ]
    },
    {
      "cell_type": "markdown",
      "metadata": {
        "id": "5FQ3kqwZ-qUO"
      },
      "source": [
        "**Observations**\n",
        "\n",
        "- The training $R^2$ is 0.72, so the model is not underfitting\n",
        "\n",
        "- The train and test RMSE and MAE are comparable, so the model is not overfitting either\n",
        "\n",
        "- MAE suggests that the model can predict anime ratings within a mean error of 0.34 on the test data\n",
        "\n",
        "- MAPE of 12.6 on the test data means that we are able to predict within 12.6% of the anime ratings"
      ]
    },
    {
      "cell_type": "markdown",
      "metadata": {
        "id": "3IjD65V42Qtb"
      },
      "source": [
        "## Conclusion"
      ]
    },
    {
      "cell_type": "markdown",
      "metadata": {
        "id": "bZgnIzFy2TUU"
      },
      "source": [
        "- We have seen how to build a linear regression model, how to predict the rating of an anime using various factors, and how to check the model's performance.\n",
        "\n",
        "- Next, we have to check the statistical validity of our model. For this, we will check if the model satisfies the assumptions of linear regression. Only then we will be able to make inferences from it."
      ]
    },
    {
      "cell_type": "markdown",
      "metadata": {
        "id": "z-D0M5WQ2Z49"
      },
      "source": [
        "### We will be discussing the assumptions of linear regression and statistical inference in the next session."
      ]
    },
    {
      "cell_type": "markdown",
      "metadata": {
        "id": "D2eFxAmjC-PS"
      },
      "source": [
        "## <a name='link1'>Appendix: Detailed Exploratory Data Analysis (EDA)</a>"
      ]
    },
    {
      "cell_type": "markdown",
      "metadata": {
        "id": "L7Drz5w_9WKV"
      },
      "source": [
        "### Univariate Analysis"
      ]
    },
    {
      "cell_type": "markdown",
      "metadata": {
        "id": "LRit2ng4C-PT"
      },
      "source": [
        "#### `rating`"
      ]
    },
    {
      "cell_type": "code",
      "execution_count": null,
      "metadata": {
        "id": "rlrjYGQ7C-PU"
      },
      "outputs": [],
      "source": [
        "histogram_boxplot(df, \"rating\")"
      ]
    },
    {
      "cell_type": "markdown",
      "metadata": {
        "id": "D7aRgpV9C-PU"
      },
      "source": [
        "* The anime ratings are kind of normally distributed with much fatter tails."
      ]
    },
    {
      "cell_type": "markdown",
      "metadata": {
        "id": "uzgpKviZC-PU"
      },
      "source": [
        "#### `eps`"
      ]
    },
    {
      "cell_type": "code",
      "execution_count": null,
      "metadata": {
        "id": "gtilBvGZC-PV"
      },
      "outputs": [],
      "source": [
        "histogram_boxplot(df, \"eps\")"
      ]
    },
    {
      "cell_type": "markdown",
      "metadata": {
        "id": "IeYHag9vC-PV"
      },
      "source": [
        "* The distribution is right-skewed, as there are many anime movies in the data and they are considered to be of only one episode (as per data description)"
      ]
    },
    {
      "cell_type": "markdown",
      "metadata": {
        "id": "n_oyZypWC-PV"
      },
      "source": [
        "#### `duration`"
      ]
    },
    {
      "cell_type": "code",
      "execution_count": null,
      "metadata": {
        "id": "jopRgpt3C-PW"
      },
      "outputs": [],
      "source": [
        "histogram_boxplot(df, \"duration\")"
      ]
    },
    {
      "cell_type": "markdown",
      "metadata": {
        "id": "QNqEDGnmC-PW"
      },
      "source": [
        "* The distribution is right-skewed with a median runtime of less than 10 minutes."
      ]
    },
    {
      "cell_type": "markdown",
      "metadata": {
        "id": "7WQPFzj3C-PW"
      },
      "source": [
        "#### `watched`"
      ]
    },
    {
      "cell_type": "code",
      "execution_count": null,
      "metadata": {
        "id": "Kd4-V5DZC-PX"
      },
      "outputs": [],
      "source": [
        "histogram_boxplot(df, \"watched\", bins=50)"
      ]
    },
    {
      "cell_type": "markdown",
      "metadata": {
        "id": "CrSHp9jFC-PX"
      },
      "source": [
        "* The distribution is heavily right-skewed, and most of the anime having less than 500 viewers."
      ]
    },
    {
      "cell_type": "markdown",
      "metadata": {
        "id": "z0HuTkCZ-qT9"
      },
      "source": [
        "#### `watching`"
      ]
    },
    {
      "cell_type": "code",
      "execution_count": null,
      "metadata": {
        "id": "7Sasnymu-qT-"
      },
      "outputs": [],
      "source": [
        "histogram_boxplot(df, \"watching\", bins=50)"
      ]
    },
    {
      "cell_type": "markdown",
      "metadata": {
        "id": "Yrgv5GgZ-qT-"
      },
      "source": [
        "* The distribution is heavily right-skewed."
      ]
    },
    {
      "cell_type": "markdown",
      "metadata": {
        "id": "gAUNOPfD-qT-"
      },
      "source": [
        "#### `votes`"
      ]
    },
    {
      "cell_type": "code",
      "execution_count": null,
      "metadata": {
        "id": "3zYTPbEi-qT-"
      },
      "outputs": [],
      "source": [
        "histogram_boxplot(df, \"votes\")"
      ]
    },
    {
      "cell_type": "markdown",
      "metadata": {
        "id": "rERweGdq-qT-"
      },
      "source": [
        "* The distribution is heavily right-skewed and seems to be bimodal, with most anime having less than 250 or more 2500 votes"
      ]
    },
    {
      "cell_type": "markdown",
      "metadata": {
        "id": "Q1KlwUmZC-PY"
      },
      "source": [
        "#### `startYr`"
      ]
    },
    {
      "cell_type": "code",
      "execution_count": null,
      "metadata": {
        "id": "Sh-07HzPC-PY"
      },
      "outputs": [],
      "source": [
        "histogram_boxplot(df, \"startYr\")"
      ]
    },
    {
      "cell_type": "markdown",
      "metadata": {
        "id": "lnykIfCRC-PY"
      },
      "source": [
        "* The distribution is left-skewed and most of the anime have started after 2005"
      ]
    },
    {
      "cell_type": "markdown",
      "metadata": {
        "id": "ifrwici9-qT_"
      },
      "source": [
        "#### `finishYr`"
      ]
    },
    {
      "cell_type": "code",
      "execution_count": null,
      "metadata": {
        "id": "_ER4ttK--qT_"
      },
      "outputs": [],
      "source": [
        "histogram_boxplot(df, \"finishYr\")"
      ]
    },
    {
      "cell_type": "markdown",
      "metadata": {
        "id": "f7b_Vv97-qT_"
      },
      "source": [
        "* The distribution is left-skewed and most of the anime have finished after 2005"
      ]
    },
    {
      "cell_type": "markdown",
      "metadata": {
        "id": "QR9X9L_-C-PZ"
      },
      "source": [
        "#### `mediaType`"
      ]
    },
    {
      "cell_type": "code",
      "execution_count": null,
      "metadata": {
        "id": "OL1Uk0GMC-Pa"
      },
      "outputs": [],
      "source": [
        "labeled_barplot(df, \"mediaType\", perc=True)"
      ]
    },
    {
      "cell_type": "markdown",
      "metadata": {
        "id": "G8ozGcL6C-Pa"
      },
      "source": [
        "* Most of the anime are released for TV"
      ]
    },
    {
      "cell_type": "markdown",
      "metadata": {
        "id": "8V-qgjXoC-Pc"
      },
      "source": [
        "#### `studio_primary`"
      ]
    },
    {
      "cell_type": "code",
      "execution_count": null,
      "metadata": {
        "id": "0wcisb15C-Pd"
      },
      "outputs": [],
      "source": [
        "labeled_barplot(df, \"studio_primary\", perc=True)"
      ]
    },
    {
      "cell_type": "markdown",
      "metadata": {
        "id": "BmtqCgDrC-Pd"
      },
      "source": [
        "* *Toei Animation* is the most common studio among the available studio names"
      ]
    },
    {
      "cell_type": "markdown",
      "metadata": {
        "id": "QXvNuAkM-qUA"
      },
      "source": [
        "#### `studios_colab`"
      ]
    },
    {
      "cell_type": "code",
      "execution_count": null,
      "metadata": {
        "id": "tuKhW845-qUA"
      },
      "outputs": [],
      "source": [
        "labeled_barplot(df, \"studios_colab\", perc=True)"
      ]
    },
    {
      "cell_type": "markdown",
      "metadata": {
        "id": "Qfk_2jAs-qUA"
      },
      "source": [
        "- More than 95% of the anime in the data do not involve a collaboration between studios"
      ]
    },
    {
      "cell_type": "markdown",
      "metadata": {
        "id": "mhVVnISF-qUB"
      },
      "source": [
        "#### `contentWarn`"
      ]
    },
    {
      "cell_type": "code",
      "execution_count": null,
      "metadata": {
        "id": "EwI4FmcU-qUB"
      },
      "outputs": [],
      "source": [
        "labeled_barplot(df, \"contentWarn\", perc=True)"
      ]
    },
    {
      "cell_type": "markdown",
      "metadata": {
        "id": "8UZaM9mO-qUB"
      },
      "source": [
        "- Nearly 90% of the anime in the data do not have an associated content warning."
      ]
    },
    {
      "cell_type": "markdown",
      "metadata": {
        "id": "3jS63iRW9WKs"
      },
      "source": [
        "### Bivariate analysis"
      ]
    },
    {
      "cell_type": "markdown",
      "metadata": {
        "id": "u2MNEP5oC-Pf"
      },
      "source": [
        "#### Correlation Check"
      ]
    },
    {
      "cell_type": "code",
      "execution_count": null,
      "metadata": {
        "id": "knpmI2Eg-qUB"
      },
      "outputs": [],
      "source": [
        "# creating a list of numerical columns\n",
        "num_cols = df.select_dtypes(include=np.number).columns.tolist()\n",
        "\n",
        "# dropping start and finish year from list of numerical columns as they are not numerical in nature\n",
        "num_cols.remove(\"startYr\")\n",
        "num_cols.remove(\"finishYr\")"
      ]
    },
    {
      "cell_type": "code",
      "execution_count": null,
      "metadata": {
        "id": "UHG40JlXC-Pg"
      },
      "outputs": [],
      "source": [
        "plt.figure(figsize=(12, 7))\n",
        "sns.heatmap(\n",
        "    df[num_cols].corr(), annot=True, vmin=-1, vmax=1, fmt=\".2f\", cmap=\"Spectral\"\n",
        ")\n",
        "plt.show()"
      ]
    },
    {
      "cell_type": "markdown",
      "metadata": {
        "id": "cwfq9zp6C-Pg"
      },
      "source": [
        "* The rating of an anime is highly correlated with the number of people who have watched the anime and voted for it on the portal\n",
        "* The number of people who have watched the anime is highly correlated with the number of people who are watching the anime\n",
        "* The number of people who have watched the anime is very highly correlated with the number of people who have voted for the anime on the portal"
      ]
    },
    {
      "cell_type": "markdown",
      "metadata": {
        "id": "B_aGPpebC-Ph"
      },
      "source": [
        "#### Let's check the variation in the anime ratings with some of the categorical columns in the data."
      ]
    },
    {
      "cell_type": "markdown",
      "metadata": {
        "id": "dKj1Aen5C-Ph"
      },
      "source": [
        "#### `genre` vs `rating`"
      ]
    },
    {
      "cell_type": "code",
      "execution_count": null,
      "metadata": {
        "id": "fEQHT16wC-Ph"
      },
      "outputs": [],
      "source": [
        "plt.figure(figsize=(15, 5))\n",
        "sns.boxplot(data=df, x=\"genre\", y=\"rating\")\n",
        "plt.show()"
      ]
    },
    {
      "cell_type": "markdown",
      "metadata": {
        "id": "bAmMe1xXC-Pi"
      },
      "source": [
        "* Anime under the genre of Drama are rated the highest in general, while those under the genre of Comedy and rated the least"
      ]
    },
    {
      "cell_type": "markdown",
      "metadata": {
        "id": "uH-kUvv8C-Pi"
      },
      "source": [
        "#### `genre` vs `watched`"
      ]
    },
    {
      "cell_type": "code",
      "execution_count": null,
      "metadata": {
        "id": "BJZwa4qkC-Pj"
      },
      "outputs": [],
      "source": [
        "plt.figure(figsize=(15, 5))\n",
        "sns.boxplot(data=df, x=\"genre\", y=\"watched\")\n",
        "plt.show()"
      ]
    },
    {
      "cell_type": "markdown",
      "metadata": {
        "id": "vygG3mQtC-Pj"
      },
      "source": [
        "* Anime under the genres of Drama and Romance have higher viewership in general"
      ]
    },
    {
      "cell_type": "markdown",
      "metadata": {
        "id": "yuLAO_iW-qUD"
      },
      "source": [
        "#### `mediaType` vs `rating`"
      ]
    },
    {
      "cell_type": "code",
      "execution_count": null,
      "metadata": {
        "id": "9qSK0w7a-qUD"
      },
      "outputs": [],
      "source": [
        "plt.figure(figsize=(10, 5))\n",
        "sns.boxplot(data=df, x=\"mediaType\", y=\"rating\")\n",
        "plt.show()"
      ]
    },
    {
      "cell_type": "markdown",
      "metadata": {
        "id": "ZlJLTZ4A-qUD"
      },
      "source": [
        "* Anime available as web series or music videos have a lower rating in general"
      ]
    },
    {
      "cell_type": "markdown",
      "metadata": {
        "id": "2eFcfrGw-qUE"
      },
      "source": [
        "#### `mediaType` vs `watched`"
      ]
    },
    {
      "cell_type": "code",
      "execution_count": null,
      "metadata": {
        "id": "tf-3QLgO-qUE"
      },
      "outputs": [],
      "source": [
        "plt.figure(figsize=(10, 5))\n",
        "sns.boxplot(data=df, x=\"mediaType\", y=\"watched\")\n",
        "plt.show()"
      ]
    },
    {
      "cell_type": "markdown",
      "metadata": {
        "id": "DC5CudzB-qUE"
      },
      "source": [
        "* Anime released as web series and music videos have lower viewership in general"
      ]
    },
    {
      "cell_type": "markdown",
      "metadata": {
        "id": "drG1KGuKC-Pj"
      },
      "source": [
        "#### `studio_primary` vs `rating`"
      ]
    },
    {
      "cell_type": "code",
      "execution_count": null,
      "metadata": {
        "id": "ufBa2ZlQC-Pk"
      },
      "outputs": [],
      "source": [
        "plt.figure(figsize=(10, 5))\n",
        "sns.boxplot(data=df, x=\"studio_primary\", y=\"rating\")\n",
        "plt.xticks(rotation=90)\n",
        "plt.show()"
      ]
    },
    {
      "cell_type": "markdown",
      "metadata": {
        "id": "G-3RqoahC-Pk"
      },
      "source": [
        "* The ratings are low for anime created by *OLM* studios in general\n",
        "* Ratings are also low, in general, for anime created by studios other than the ones in the data"
      ]
    },
    {
      "cell_type": "markdown",
      "metadata": {
        "id": "Uw062Wxa-qUF"
      },
      "source": [
        "#### `mediaType` vs `duration`"
      ]
    },
    {
      "cell_type": "code",
      "execution_count": null,
      "metadata": {
        "id": "8MMkQ91i-qUF"
      },
      "outputs": [],
      "source": [
        "plt.figure(figsize=(10, 5))\n",
        "sns.boxplot(data=df, x=\"mediaType\", y=\"duration\")\n",
        "plt.show()"
      ]
    },
    {
      "cell_type": "markdown",
      "metadata": {
        "id": "0-RFeE0o-qUF"
      },
      "source": [
        "* Anime movies have the highest duration while music videos have the lowest, which is expected"
      ]
    },
    {
      "cell_type": "markdown",
      "metadata": {
        "id": "EEBq3KCA-qUF"
      },
      "source": [
        "#### `mediaType` vs `eps`"
      ]
    },
    {
      "cell_type": "code",
      "execution_count": null,
      "metadata": {
        "id": "lqLabkwt-qUF"
      },
      "outputs": [],
      "source": [
        "plt.figure(figsize=(10, 5))\n",
        "sns.boxplot(data=df, x=\"mediaType\", y=\"eps\")\n",
        "plt.show()"
      ]
    },
    {
      "cell_type": "markdown",
      "metadata": {
        "id": "M1fQLaRj-qUF"
      },
      "source": [
        "* Anime movies have seem to have exactly one episode, which is in line with the data description\n",
        "* Anime released for TV have the highest number of episodes (more than 20) in general"
      ]
    },
    {
      "cell_type": "code",
      "execution_count": null,
      "metadata": {
        "id": "AXrsRQHj-qUG"
      },
      "outputs": [],
      "source": [
        "df[df.mediaType == \"Movie\"][\"eps\"].describe()"
      ]
    },
    {
      "cell_type": "markdown",
      "metadata": {
        "id": "r8Rk58f3-qUG"
      },
      "source": [
        "* This confirms that anime movies have exactly one episode"
      ]
    },
    {
      "cell_type": "markdown",
      "metadata": {
        "id": "YI3kpd6h1eFC"
      },
      "source": [
        "#### `genre` vs `watched`"
      ]
    },
    {
      "cell_type": "code",
      "execution_count": null,
      "metadata": {
        "id": "mxy2rWf21eFD"
      },
      "outputs": [],
      "source": [
        "plt.figure(figsize=(10, 5))\n",
        "sns.boxplot(data=df, x=\"genre\", y=\"watched\")\n",
        "plt.xticks(rotation=90)\n",
        "plt.show()"
      ]
    },
    {
      "cell_type": "markdown",
      "metadata": {
        "id": "8wccvzOS1eFD"
      },
      "source": [
        "* Anime from the Drama and Comedy genres have been watched more in general"
      ]
    },
    {
      "cell_type": "markdown",
      "metadata": {
        "id": "YK089KxF1eFD"
      },
      "source": [
        "#### `genre` vs `watching`"
      ]
    },
    {
      "cell_type": "code",
      "execution_count": null,
      "metadata": {
        "id": "vzXf0SoE1eFD"
      },
      "outputs": [],
      "source": [
        "plt.figure(figsize=(10, 5))\n",
        "sns.boxplot(data=df, x=\"genre\", y=\"watching\")\n",
        "plt.xticks(rotation=90)\n",
        "plt.show()"
      ]
    },
    {
      "cell_type": "markdown",
      "metadata": {
        "id": "UuYJbAaT1eFD"
      },
      "source": [
        "* Anime from the Drama and Comedy genres are being watched more in general"
      ]
    },
    {
      "cell_type": "markdown",
      "metadata": {
        "id": "eIvRWgbJnUsE"
      },
      "source": [
        "### To jump back to the EDA summary section, click <a href = #link2>here</a>."
      ]
    },
    {
      "cell_type": "markdown",
      "metadata": {
        "id": "9ouYixisno78"
      },
      "source": [
        "___"
      ]
    }
  ],
  "metadata": {
    "colab": {
      "collapsed_sections": [
        "rj3ZBcwc-qTr",
        "F3Tm5SxJTle6",
        "xxhpZv9y-qTw",
        "aodMV5D3-qTy",
        "VjmJBEKSQjcH",
        "ftd1CbHOB6PZ",
        "kQ5wsxwA-qUG",
        "G9_JGYY_-qUN",
        "3IjD65V42Qtb",
        "D2eFxAmjC-PS",
        "eIvRWgbJnUsE"
      ],
      "provenance": [],
      "include_colab_link": true
    },
    "kernelspec": {
      "display_name": "Python 3 (ipykernel)",
      "language": "python",
      "name": "python3"
    },
    "language_info": {
      "codemirror_mode": {
        "name": "ipython",
        "version": 3
      },
      "file_extension": ".py",
      "mimetype": "text/x-python",
      "name": "python",
      "nbconvert_exporter": "python",
      "pygments_lexer": "ipython3",
      "version": "3.8.12"
    }
  },
  "nbformat": 4,
  "nbformat_minor": 0
}